{
  "cells": [
    {
      "cell_type": "code",
      "execution_count": 1,
      "metadata": {
        "id": "YG4jOi1Rwx2A"
      },
      "outputs": [],
      "source": [
        "import sys\n",
        "import os\n",
        "sys.path.insert(0,'/content/NextFace') #verify ur path"
      ]
    },
    {
      "cell_type": "code",
      "execution_count": 2,
      "metadata": {
        "id": "jNPREJEczUYg"
      },
      "outputs": [
        {
          "name": "stdout",
          "output_type": "stream",
          "text": [
            "loading optim config from:  ./optimConfig.ini\n"
          ]
        }
      ],
      "source": [
        "from optimizer import Optimizer\n",
        "from config import Config\n",
        "config = Config()\n",
        "config.fillFromDicFile('./optimConfig.ini')\n",
        "# config.device = 'cuda' # torch not compiled with cuda\n",
        "config.path = './baselMorphableModel/' #verify ur path\n"
      ]
    },
    {
      "cell_type": "code",
      "execution_count": 3,
      "metadata": {
        "id": "AwYMbIY00IvC"
      },
      "outputs": [
        {
          "name": "stdout",
          "output_type": "stream",
          "text": [
            "True\n",
            "NVIDIA GeForce RTX 4070 Laptop GPU\n",
            "1\n",
            "Loading Basel Face Model 2017 from ./baselMorphableModel//morphableModel-2017.pickle...\n",
            "loading mesh normals...\n",
            "loading uv parametrization...\n",
            "loading landmarks association file...\n",
            "creating sampler...\n"
          ]
        },
        {
          "name": "stderr",
          "output_type": "stream",
          "text": [
            "c:\\Users\\AQ14980\\Desktop\\repos\\NextFace\\faceNext\\lib\\site-packages\\torch\\functional.py:504: UserWarning: torch.meshgrid: in an upcoming release, it will be required to pass the indexing argument. (Triggered internally at C:\\actions-runner\\_work\\pytorch\\pytorch\\builder\\windows\\pytorch\\aten\\src\\ATen\\native\\TensorShape.cpp:3484.)\n",
            "  return _VF.meshgrid(tensors, **kwargs)  # type: ignore[attr-defined]\n"
          ]
        }
      ],
      "source": [
        "import torch\n",
        "\n",
        "imagePath = './input/detailled_faces_unsplash/Bikerman.jpg' #verify ur path\n",
        "outputDir = './output/' + os.path.basename(imagePath.strip('/'))\n",
        "# VALIDATE CUDA\n",
        "print(torch.cuda.is_available())\n",
        "print(torch.cuda.get_device_name(0))\n",
        "# # torch.cuda.set_device(torch.cuda.device(0) )\n",
        "# # torch.backends.cudnn.benchmark = False\n",
        "print(torch.cuda.device_count())\n",
        "# torch.cuda.empty_cache()\n",
        "torch.cuda.set_device(0)\n",
        "    \n",
        "optimizer = Optimizer(outputDir ,config)"
      ]
    },
    {
      "cell_type": "code",
      "execution_count": 4,
      "metadata": {
        "colab": {
          "base_uri": "https://localhost:8080/",
          "height": 1000
        },
        "id": "5lQYBcXb90iH",
        "outputId": "4ff2113d-6eec-4b77-9d8f-4a32138ea7fc"
      },
      "outputs": [
        {
          "name": "stdout",
          "output_type": "stream",
          "text": [
            "loading images from path:  ./input/detailled_faces_unsplash/1.jpg\n"
          ]
        },
        {
          "ename": "AssertionError",
          "evalue": "",
          "output_type": "error",
          "traceback": [
            "\u001b[1;31m---------------------------------------------------------------------------\u001b[0m",
            "\u001b[1;31mAssertionError\u001b[0m                            Traceback (most recent call last)",
            "Cell \u001b[1;32mIn[4], line 2\u001b[0m\n\u001b[0;32m      1\u001b[0m \u001b[39m#run the optimization now \u001b[39;00m\n\u001b[1;32m----> 2\u001b[0m optimizer\u001b[39m.\u001b[39;49mrun(imagePath,doStep1\u001b[39m=\u001b[39;49m\u001b[39mTrue\u001b[39;49;00m,doStep2\u001b[39m=\u001b[39;49m\u001b[39mTrue\u001b[39;49;00m, doStep3\u001b[39m=\u001b[39;49m\u001b[39mTrue\u001b[39;49;00m)\n",
            "File \u001b[1;32mc:\\Users\\AQ14980\\Desktop\\repos\\NextFace\\optimizer.py:424\u001b[0m, in \u001b[0;36mOptimizer.run\u001b[1;34m(self, imagePathOrDir, sharedIdentity, checkpoint, doStep1, doStep2, doStep3)\u001b[0m\n\u001b[0;32m    411\u001b[0m \u001b[39mdef\u001b[39;00m \u001b[39mrun\u001b[39m(\u001b[39mself\u001b[39m, imagePathOrDir, sharedIdentity \u001b[39m=\u001b[39m \u001b[39mFalse\u001b[39;00m, checkpoint \u001b[39m=\u001b[39m \u001b[39mNone\u001b[39;00m, doStep1 \u001b[39m=\u001b[39m \u001b[39mTrue\u001b[39;00m, doStep2 \u001b[39m=\u001b[39m \u001b[39mTrue\u001b[39;00m, doStep3 \u001b[39m=\u001b[39m \u001b[39mTrue\u001b[39;00m):\n\u001b[0;32m    412\u001b[0m \u001b[39m    \u001b[39m\u001b[39m'''\u001b[39;00m\n\u001b[0;32m    413\u001b[0m \u001b[39m    run optimization on given path (can be a directory that contains images with same resolution or a direct path to an image)\u001b[39;00m\n\u001b[0;32m    414\u001b[0m \u001b[39m    :param imagePathOrDir: a path to a directory or image\u001b[39;00m\n\u001b[1;32m   (...)\u001b[0m\n\u001b[0;32m    420\u001b[0m \u001b[39m    :return:\u001b[39;00m\n\u001b[0;32m    421\u001b[0m \u001b[39m    '''\u001b[39;00m\n\u001b[1;32m--> 424\u001b[0m     \u001b[39mself\u001b[39;49m\u001b[39m.\u001b[39;49msetImage(imagePathOrDir, sharedIdentity)\n\u001b[0;32m    425\u001b[0m     \u001b[39massert\u001b[39;00m(\u001b[39mself\u001b[39m\u001b[39m.\u001b[39mframesNumber \u001b[39m>\u001b[39m\u001b[39m=\u001b[39m \u001b[39m1\u001b[39m) \u001b[39m#could not load any image from path\u001b[39;00m\n\u001b[0;32m    427\u001b[0m     \u001b[39mif\u001b[39;00m checkpoint \u001b[39mis\u001b[39;00m \u001b[39mnot\u001b[39;00m \u001b[39mNone\u001b[39;00m \u001b[39mand\u001b[39;00m checkpoint \u001b[39m!=\u001b[39m \u001b[39m'\u001b[39m\u001b[39m'\u001b[39m:\n",
            "File \u001b[1;32mc:\\Users\\AQ14980\\Desktop\\repos\\NextFace\\optimizer.py:120\u001b[0m, in \u001b[0;36mOptimizer.setImage\u001b[1;34m(self, imagePath, sharedIdentity)\u001b[0m\n\u001b[0;32m    118\u001b[0m     \u001b[39mself\u001b[39m\u001b[39m.\u001b[39minputImage \u001b[39m=\u001b[39m Image(imagePath, \u001b[39mself\u001b[39m\u001b[39m.\u001b[39mdevice, \u001b[39mself\u001b[39m\u001b[39m.\u001b[39mconfig\u001b[39m.\u001b[39mmaxResolution)\n\u001b[0;32m    119\u001b[0m \u001b[39melse\u001b[39;00m:\n\u001b[1;32m--> 120\u001b[0m     \u001b[39mself\u001b[39m\u001b[39m.\u001b[39minputImage \u001b[39m=\u001b[39m ImageFolder(imagePath, \u001b[39mself\u001b[39;49m\u001b[39m.\u001b[39;49mdevice, \u001b[39mself\u001b[39;49m\u001b[39m.\u001b[39;49mconfig\u001b[39m.\u001b[39;49mmaxResolution)\n\u001b[0;32m    122\u001b[0m \u001b[39mself\u001b[39m\u001b[39m.\u001b[39mframesNumber \u001b[39m=\u001b[39m \u001b[39mself\u001b[39m\u001b[39m.\u001b[39minputImage\u001b[39m.\u001b[39mtensor\u001b[39m.\u001b[39mshape[\u001b[39m0\u001b[39m]\n\u001b[0;32m    123\u001b[0m \u001b[39m#self.inputImage = Image(imagePath, self.device)\u001b[39;00m\n",
            "File \u001b[1;32mc:\\Users\\AQ14980\\Desktop\\repos\\NextFace\\image.py:99\u001b[0m, in \u001b[0;36mImageFolder.__init__\u001b[1;34m(self, path, device, maxRes)\u001b[0m\n\u001b[0;32m     96\u001b[0m height \u001b[39m=\u001b[39m \u001b[39mNone\u001b[39;00m\n\u001b[0;32m     97\u001b[0m ct \u001b[39m=\u001b[39m \u001b[39m0\u001b[39m\n\u001b[1;32m---> 99\u001b[0m \u001b[39massert\u001b[39;00m (\u001b[39mlen\u001b[39m(filenames) \u001b[39m>\u001b[39m \u001b[39m0\u001b[39m)  \u001b[39m# no images found in the given directory\u001b[39;00m\n\u001b[0;32m    100\u001b[0m \u001b[39mfor\u001b[39;00m filename \u001b[39min\u001b[39;00m filenames:\n\u001b[0;32m    101\u001b[0m     \u001b[39mif\u001b[39;00m os\u001b[39m.\u001b[39mpath\u001b[39m.\u001b[39msplitext(filename)[\u001b[39m1\u001b[39m]\u001b[39m.\u001b[39mlower() \u001b[39min\u001b[39;00m supportedFormats:\n",
            "\u001b[1;31mAssertionError\u001b[0m: "
          ]
        }
      ],
      "source": [
        "#run the optimization now \n",
        "optimizer.run(imagePath,doStep1=True,doStep2=True, doStep3=True)"
      ]
    },
    {
      "attachments": {},
      "cell_type": "markdown",
      "metadata": {},
      "source": [
        "Results"
      ]
    },
    {
      "cell_type": "code",
      "execution_count": null,
      "metadata": {},
      "outputs": [],
      "source": [
        "#display results\n",
        "from IPython.display import Image, display\n",
        "from IPython.display import Image\n",
        "\n",
        "display(Image(outputDir + '/render_0.png'))\n"
      ]
    }
  ],
  "metadata": {
    "accelerator": "GPU",
    "colab": {
      "name": "demo.ipynb",
      "provenance": []
    },
    "kernelspec": {
      "display_name": "Python 3",
      "language": "python",
      "name": "python3"
    },
    "language_info": {
      "codemirror_mode": {
        "name": "ipython",
        "version": 3
      },
      "file_extension": ".py",
      "mimetype": "text/x-python",
      "name": "python",
      "nbconvert_exporter": "python",
      "pygments_lexer": "ipython3",
      "version": "3.9.13"
    }
  },
  "nbformat": 4,
  "nbformat_minor": 0
}
