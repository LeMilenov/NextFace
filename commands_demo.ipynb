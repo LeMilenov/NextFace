{
  "cells": [
    {
      "attachments": {},
      "cell_type": "markdown",
      "metadata": {},
      "source": [
        "Generate"
      ]
    },
    {
      "attachments": {},
      "cell_type": "markdown",
      "metadata": {},
      "source": [
        "Reconstruction of a face from a single image ( Vertex / Redner / Mitsuba)"
      ]
    },
    {
      "cell_type": "code",
      "execution_count": 5,
      "metadata": {},
      "outputs": [
        {
          "name": "stdout",
          "output_type": "stream",
          "text": [
            "loading optim config from:  ./optimConfig.ini\n",
            "Loading Basel Face Model 2017 from ./baselMorphableModel/morphableModel-2017.pickle...\n",
            "loading mesh normals...\n",
            "loading uv parametrization...\n",
            "loading landmarks association file...\n",
            "creating sampler...\n",
            "2023-08-31 12:14:51 DEBUG main  [PluginManager] Loading plugin \"plugins\\bitmap.dll\" ..\n",
            "2023-08-31 12:14:51 DEBUG main  [BitmapTexture] Loading bitmap texture from memory...\n",
            "2023-08-31 12:14:51 DEBUG wrk34 [BitmapTexture] Loading bitmap texture from memory...\n",
            "2023-08-31 12:14:51 DEBUG wrk35 [BitmapTexture] Loading bitmap texture from memory...\n",
            "2023-08-31 12:14:51 DEBUG main  [PluginManager] Loading plugin \"plugins\\d65.dll\" ..\n",
            "2023-08-31 12:14:51 DEBUG main  [PluginManager] Loading plugin \"plugins\\regular.dll\" ..\n",
            "2023-08-31 12:14:51 DEBUG main  [PluginManager] Loading plugin \"plugins\\uniform.dll\" ..\n",
            "2023-08-31 12:14:51 DEBUG main  [PluginManager] Loading plugin \"plugins\\aov.dll\" ..\n",
            "2023-08-31 12:14:51 DEBUG main  [PluginManager] Loading plugin \"plugins\\perspective.dll\" ..\n",
            "2023-08-31 12:14:51 DEBUG main  [PluginManager] Loading plugin \"plugins\\hdrfilm.dll\" ..\n",
            "2023-08-31 12:14:51 DEBUG main  [PluginManager] Loading plugin \"plugins\\box.dll\" ..\n",
            "2023-08-31 12:14:51 DEBUG main  [PluginManager] Loading plugin \"plugins\\obj.dll\" ..\n",
            "2023-08-31 12:14:51 DEBUG main  [PluginManager] Loading plugin \"plugins\\envmap.dll\" ..\n",
            "2023-08-31 12:14:51 DEBUG wrk51 [OBJMesh] Loading mesh from \"mesh0.obj\" ..\n",
            "2023-08-31 12:14:51 DEBUG wrk52 [PluginManager] Loading plugin \"plugins\\independent.dll\" ..\n",
            "2023-08-31 12:14:52 DEBUG wrk51 [OBJMesh] \"mesh0.obj\": read 56572 faces, 28588 vertices (1.19 MiB in 31ms)\n",
            "2023-08-31 12:14:52 INFO  main  [Scene] Building scene in OptiX ..\n",
            "2023-08-31 12:14:52 DEBUG main  [scene_optix.inl:77] Initialize Optix configuration (index=2)..\n",
            "2023-08-31 12:14:52 INFO  main  [Scene] OptiX ready. (took 375ms)\n",
            "2023-08-31 12:14:52 DEBUG main  [BitmapTexture] Loading bitmap texture from memory...\n",
            "2023-08-31 12:14:52 DEBUG wrk39 [BitmapTexture] Loading bitmap texture from memory...\n",
            "2023-08-31 12:14:52 DEBUG wrk50 [BitmapTexture] Loading bitmap texture from memory...\n",
            "2023-08-31 12:14:52 DEBUG wrk43 [OBJMesh] Loading mesh from \"mesh0.obj\" ..\n",
            "2023-08-31 12:14:52 DEBUG wrk43 [OBJMesh] \"mesh0.obj\": read 56572 faces, 28588 vertices (1.19 MiB in 21ms)\n",
            "2023-08-31 12:14:52 INFO  main  [Scene] Building scene in OptiX ..\n",
            "2023-08-31 12:14:52 INFO  main  [Scene] OptiX ready. (took 2ms)\n",
            "2023-08-31 12:14:52 DEBUG main  [Scene] Scene GPU acceleration release ..\n",
            "2023-08-31 12:14:52 DEBUG main  [Scene] Free OptiX IAS..\n",
            "loading images from path:  input/test/bikerman_512.png\n",
            "2023-08-31 12:14:52 DEBUG main  [Scene] Scene GPU acceleration release ..\n",
            "2023-08-31 12:14:52 DEBUG main  [Scene] Free OptiX IAS..\n"
          ]
        },
        {
          "name": "stderr",
          "output_type": "stream",
          "text": [
            "C:\\Users\\AQ14980\\Desktop\\repos\\NextFace\\faceNext\\lib\\site-packages\\torch\\functional.py:504: UserWarning: torch.meshgrid: in an upcoming release, it will be required to pass the indexing argument. (Triggered internally at C:\\actions-runner\\_work\\pytorch\\pytorch\\builder\\windows\\pytorch\\aten\\src\\ATen\\native\\TensorShape.cpp:3484.)\n",
            "  return _VF.meshgrid(tensors, **kwargs)  # type: ignore[attr-defined]\n",
            "Traceback (most recent call last):\n",
            "  File \"c:\\Users\\AQ14980\\Desktop\\repos\\NextFace\\optimizer.py\", line 569, in <module>\n",
            "    optimizer.run(inputDir,\n",
            "  File \"c:\\Users\\AQ14980\\Desktop\\repos\\NextFace\\optimizer.py\", line 495, in run\n",
            "    self.setImage(imagePathOrDir, sharedIdentity)\n",
            "  File \"c:\\Users\\AQ14980\\Desktop\\repos\\NextFace\\optimizer.py\", line 125, in setImage\n",
            "    self.inputImage = ImageFolder(imagePath, self.device, self.config.maxResolution)\n",
            "  File \"c:\\Users\\AQ14980\\Desktop\\repos\\NextFace\\image.py\", line 108, in __init__\n",
            "    assert (len(filenames) > 0)  # no images found in the given directory\n",
            "AssertionError\n"
          ]
        }
      ],
      "source": [
        "! py -u ./optimizer.py --input input/test/s1.png --output output/test/mitsuba_blank_text"
      ]
    },
    {
      "attachments": {},
      "cell_type": "markdown",
      "metadata": {},
      "source": [
        "Batch reconstruction of a faces from a folder ( Vertex / Redner)"
      ]
    },
    {
      "cell_type": "code",
      "execution_count": null,
      "metadata": {},
      "outputs": [],
      "source": [
        "! py ./optimizer.py --input input/test/ --output output/test/all_images/vertex_reg "
      ]
    },
    {
      "attachments": {},
      "cell_type": "markdown",
      "metadata": {},
      "source": [
        "Batch reconstruction of faces in loop (Mitsuba)"
      ]
    },
    {
      "cell_type": "code",
      "execution_count": null,
      "metadata": {},
      "outputs": [],
      "source": [
        "import os\n",
        "import subprocess\n",
        "# Directory path containing all images\n",
        "imageFolderPath = './input/test/'\n",
        "\n",
        "outputDir = './output/test/mitsuba_rednermat'\n",
        "#setup\n",
        "if not os.path.exists(outputDir):\n",
        "    os.makedirs(outputDir)  # Create the output directory if it doesn't exist\n",
        "# Get the names of all files in the specified directory\n",
        "image_names = [f for f in os.listdir(imageFolderPath) if os.path.isfile(os.path.join(imageFolderPath, f))]\n",
        "\n",
        "# Filter only image files by extensions (if required)\n",
        "image_paths = [os.path.join(imageFolderPath, image_name) for image_name in image_names if image_name.endswith(('.png', '.jpg', '.jpeg'))]\n",
        "\n",
        "# Print the command for each image\n",
        "for image_path in image_paths:\n",
        "    # Removing the './' from the image path\n",
        "    image_path = image_path.replace('./', '')\n",
        "    outputDir = outputDir.replace('./', '')\n",
        "    command = f'py ./optimizer.py --input {image_path} --output {outputDir}'\n",
        "    print(command)\n",
        "    # Execute the command using os.system(command) if desired\n",
        "    # os.system(command)\n",
        "    result = subprocess.run(command, stdout=subprocess.PIPE, stderr=subprocess.PIPE, shell=True)\n",
        "    print(result.stdout.decode())\n",
        "    "
      ]
    },
    {
      "cell_type": "code",
      "execution_count": null,
      "metadata": {},
      "outputs": [],
      "source": [
        "! py ./optimizer.py --input input/test/s1.png --output output/test/mitsuba_31_aug_bsdf"
      ]
    },
    {
      "attachments": {},
      "cell_type": "markdown",
      "metadata": {},
      "source": [
        "Display images"
      ]
    },
    {
      "cell_type": "code",
      "execution_count": null,
      "metadata": {},
      "outputs": [],
      "source": [
        "from PIL import Image\n",
        "import matplotlib.pyplot as plt\n",
        "def display_images_in_folder(folder_path):\n",
        "    # Iterate through the folder and subfolders\n",
        "    for root, dirs, files in os.walk(folder_path):\n",
        "        # Look for the file \"render0.png\" in the current directory\n",
        "        if \"render_0.png\" in files:\n",
        "            image_path = os.path.join(root, \"render_0.png\")\n",
        "            # Open the image using PIL\n",
        "            image = Image.open(image_path)\n",
        "            # Display the image\n",
        "            # Plot and display the image using Matplotlib\n",
        "            plt.imshow(image)\n",
        "            plt.axis('off')  # Turn off axis\n",
        "            plt.title(f\"Image from: {root}\")\n",
        "            plt.show()\n",
        "\n",
        "# Path to the output directory\n",
        "output_folder_path = outputDir\n",
        "\n",
        "# Call the function to find and display the images\n",
        "display_images_in_folder(output_folder_path)\n"
      ]
    }
  ],
  "metadata": {
    "accelerator": "GPU",
    "colab": {
      "name": "demo.ipynb",
      "provenance": []
    },
    "kernelspec": {
      "display_name": "Python 3",
      "language": "python",
      "name": "python3"
    },
    "language_info": {
      "codemirror_mode": {
        "name": "ipython",
        "version": 3
      },
      "file_extension": ".py",
      "mimetype": "text/x-python",
      "name": "python",
      "nbconvert_exporter": "python",
      "pygments_lexer": "ipython3",
      "version": "3.9.13"
    }
  },
  "nbformat": 4,
  "nbformat_minor": 0
}
