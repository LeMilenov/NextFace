{
  "cells": [
    {
      "cell_type": "code",
      "execution_count": 2,
      "metadata": {
        "id": "YG4jOi1Rwx2A"
      },
      "outputs": [],
      "source": [
        "import sys\n",
        "import os\n",
        "sys.path.insert(0,'/content/NextFace') #verify ur path"
      ]
    },
    {
      "cell_type": "code",
      "execution_count": 3,
      "metadata": {
        "id": "jNPREJEczUYg"
      },
      "outputs": [
        {
          "name": "stdout",
          "output_type": "stream",
          "text": [
            "loading optim config from:  ./optimConfig.ini\n"
          ]
        }
      ],
      "source": [
        "from optimizer import Optimizer\n",
        "from config import Config\n",
        "config = Config()\n",
        "config.fillFromDicFile('./optimConfig.ini')\n",
        "# config.device = 'cuda' # torch not compiled with cuda\n",
        "config.path = './baselMorphableModel/' #verify ur path\n"
      ]
    },
    {
      "cell_type": "code",
      "execution_count": 4,
      "metadata": {
        "id": "AwYMbIY00IvC"
      },
      "outputs": [
        {
          "name": "stdout",
          "output_type": "stream",
          "text": [
            "Loading Basel Face Model 2017 from ./baselMorphableModel//morphableModel-2017.pickle...\n",
            "loading mesh normals...\n",
            "loading uv parametrization...\n",
            "loading landmarks association file...\n",
            "creating sampler...\n"
          ]
        },
        {
          "name": "stderr",
          "output_type": "stream",
          "text": [
            "c:\\Users\\AQ14980\\Desktop\\repos\\NextFace\\faceNext\\lib\\site-packages\\torch\\functional.py:504: UserWarning: torch.meshgrid: in an upcoming release, it will be required to pass the indexing argument. (Triggered internally at C:\\actions-runner\\_work\\pytorch\\pytorch\\builder\\windows\\pytorch\\aten\\src\\ATen\\native\\TensorShape.cpp:3484.)\n",
            "  return _VF.meshgrid(tensors, **kwargs)  # type: ignore[attr-defined]\n"
          ]
        }
      ],
      "source": [
        "import torch\n",
        "\n",
        "imagePath = './input/detailled_faces_unsplash/Bikerman.jpg' #verify ur path\n",
        "outputDir = './output/' + os.path.basename(imagePath.strip('/'))\n",
        "# VALIDATE CUDA\n",
        "# print(torch.cuda.is_available())\n",
        "# print(torch.cuda.get_device_name(0))\n",
        "# # # torch.cuda.set_device(torch.cuda.device(0) )\n",
        "# # # torch.backends.cudnn.benchmark = False\n",
        "# print(torch.cuda.device_count())\n",
        "# torch.cuda.empty_cache()\n",
        "torch.cuda.set_device(0)\n",
        "optimizer = Optimizer(outputDir ,config)"
      ]
    },
    {
      "cell_type": "code",
      "execution_count": null,
      "metadata": {
        "colab": {
          "base_uri": "https://localhost:8080/",
          "height": 1000
        },
        "id": "5lQYBcXb90iH",
        "outputId": "4ff2113d-6eec-4b77-9d8f-4a32138ea7fc"
      },
      "outputs": [],
      "source": [
        "#run the optimization now \n",
        "optimizer.run(imagePath,doStep1=False,doStep2=True, doStep3=False)\n",
        "# optimizer.run(imagePath,checkpoint=outputDir+'/checkpoints/stage1_output.pickle', doStep1=False,doStep2=True, doStep3=False)"
      ]
    },
    {
      "attachments": {},
      "cell_type": "markdown",
      "metadata": {},
      "source": [
        "Results"
      ]
    },
    {
      "cell_type": "code",
      "execution_count": 5,
      "metadata": {},
      "outputs": [],
      "source": [
        "#display results\n",
        "from IPython.display import Image, display\n",
        "from IPython.display import Image\n",
        "import os, glob\n",
        "# Directory containing the images\n",
        "dir_path = outputDir + '/debug/debug_step2/F_refactor'\n",
        "\n",
        "# Get a list of all the .png images in the directory\n",
        "image_files = glob.glob(os.path.join(dir_path, \"*.png\"))\n",
        "\n",
        "# Display each image in turn\n",
        "for image_file in image_files:\n",
        "    print(f\"Displaying image: {os.path.basename(image_file)}\")\n",
        "    display(Image(filename=image_file))\n"
      ]
    },
    {
      "cell_type": "code",
      "execution_count": 7,
      "metadata": {},
      "outputs": [],
      "source": [
        "# display meshes in polyscope\n",
        "import polyscope as ps\n",
        "import trimesh\n",
        "import glob\n",
        "import torch\n",
        "import math\n",
        "\n",
        "display_meshes = [\"debug1_iter0.obj\", \"debug2_iter0.obj\", \"debug2_iter1000.obj\"]  # replace this with your mesh names\n",
        "\n",
        "# Get a list of all .obj files in the directory\n",
        "obj_files = glob.glob(os.path.join(outputDir + '/debug/mesh/', \"*.obj\"))\n",
        "\n",
        "# Filter obj_files to only include the ones in display_meshes\n",
        "obj_files = [file for file in obj_files if os.path.basename(file) in display_meshes]\n",
        "\n",
        "# Define a folder where the screenshots will be saved\n",
        "screenshot_folder = outputDir+ \"/debug/screenshot_folder\"  # replace with your desired folder\n",
        "\n",
        "# Check if the folder exists, if not create it\n",
        "os.makedirs(screenshot_folder, exist_ok=True)\n",
        "\n",
        "# Initialize polyscope\n",
        "ps.init()\n",
        "# enable auto centering and scaling\n",
        "ps.set_autocenter_structures(True)\n",
        "ps.set_autoscale_structures(True)\n",
        "ps.set_up_dir(\"neg_y_up\")\n",
        "\n",
        "# # Show the mesh\n",
        "# ps.show()\n",
        "# Load and register each mesh to polyscope\n",
        "for idx, obj_file in enumerate(obj_files):\n",
        "    # mesh_name = os.path.basename(obj_file)  # get the name of the mesh\n",
        "    mesh_name = os.path.basename(obj_file)  # get the name of the mesh\n",
        "\n",
        "    # Load the mesh from an obj file using trimesh\n",
        "    mesh = trimesh.load_mesh(obj_file)\n",
        "    # Register the mesh to polyscope\n",
        "    ps_mesh = ps.register_surface_mesh(mesh_name, mesh.vertices, mesh.faces)\n",
        "    # Reset the transformation on the mesh\n",
        "    ps_mesh.reset_transform()\n",
        "    # Set a color for the mesh\n",
        "    color = torch.tensor([0.5, 0.5, 0.5]).numpy()  # set a fixed color\n",
        "    ps_mesh.set_color(color)\n",
        "    # Reset the view\n",
        "    ps.reset_camera_to_home_view()\n",
        "    # Show the mesh\n",
        "    ps.show()\n",
        "\n",
        "    # Take a screenshot and save it to the specified folder\n",
        "    screenshot_name = os.path.join(screenshot_folder, f\"{mesh_name}_screenshot.png\")\n",
        "    ps.screenshot(screenshot_name)\n",
        "\n",
        "    # Remove the mesh from polyscope to prepare for the next one\n",
        "    ps.remove_all_structures()"
      ]
    }
  ],
  "metadata": {
    "accelerator": "GPU",
    "colab": {
      "name": "demo.ipynb",
      "provenance": []
    },
    "kernelspec": {
      "display_name": "Python 3",
      "language": "python",
      "name": "python3"
    },
    "language_info": {
      "codemirror_mode": {
        "name": "ipython",
        "version": 3
      },
      "file_extension": ".py",
      "mimetype": "text/x-python",
      "name": "python",
      "nbconvert_exporter": "python",
      "pygments_lexer": "ipython3",
      "version": "3.9.13"
    }
  },
  "nbformat": 4,
  "nbformat_minor": 0
}
