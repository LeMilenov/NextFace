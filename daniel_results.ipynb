{
  "cells": [
    {
      "attachments": {},
      "cell_type": "markdown",
      "metadata": {},
      "source": [
        "Generate"
      ]
    },
    {
      "cell_type": "code",
      "execution_count": null,
      "metadata": {
        "id": "YG4jOi1Rwx2A"
      },
      "outputs": [],
      "source": [
        "import sys\n",
        "import os\n",
        "import torch\n",
        "from optimizer import Optimizer\n",
        "from config import Config\n",
        "import glob\n",
        "sys.path.insert(0,'/content/NextFace') # Verify your path\n",
        "\n",
        "config = Config()\n",
        "config.fillFromDicFile('./optimConfig.ini')\n",
        "# config.device = 'cuda' # torch not compiled with CUDA\n",
        "config.path = './baselMorphableModel/' # Verify your path\n",
        "\n",
        "# Directory path containing all images\n",
        "imageFolderPath = './input/10_famous_people/'\n",
        "\n",
        "outputDir = './output/'\n",
        "#setup\n",
        "# Extract the folder name (e.g., '10_famous_people')\n",
        "folder_name = os.path.basename(imageFolderPath.strip('/'))\n",
        "\n",
        "outputDir = './output/' + folder_name + '/'\n",
        "if not os.path.exists(outputDir):\n",
        "    os.makedirs(outputDir)  # Create the output directory if it doesn't exist\n",
        "    \n",
        "torch.cuda.set_device(0)\n",
        "\n",
        "# Loop through all JPG images in the specified folder\n",
        "for imagePath in glob.glob(imageFolderPath + '*.jpg'):\n",
        "    # Determine output directory based on image name\n",
        "    image_name = os.path.basename(imagePath.strip('/'))\n",
        "    outputImageDir = outputDir + image_name\n",
        "    optimizer = Optimizer(outputImageDir, config)\n",
        "    \n",
        "    # Run the optimization for the current image\n",
        "    optimizer.run(imagePath, doStep1=True, doStep2=True, doStep3=False, renderer=\"vertex\")\n",
        "    # Based on the vertex_based optimization, try to get to the same result with the Mitsuba one\n",
        "    optimizer.run(outputImageDir+'/results/ref.png', checkpoint=outputImageDir+'/checkpoints/stage1_output.pickle', doStep1=False, doStep2=True, doStep3=False, renderer=\"mitsuba\")"
      ]
    },
    {
      "attachments": {},
      "cell_type": "markdown",
      "metadata": {},
      "source": [
        "Results"
      ]
    },
    {
      "cell_type": "code",
      "execution_count": null,
      "metadata": {},
      "outputs": [],
      "source": [
        "#display results\n",
        "# Directory containing the images\n",
        "dir_path = outputDir + '/debug/Baseline/mitsuba/'\n",
        "\n",
        "# Get a list of all the .png images in the directory\n",
        "image_files = glob.glob(os.path.join(dir_path, \"*.png\"))\n",
        "\n",
        "# Display each image in turn\n",
        "for image_file in image_files:\n",
        "    print(f\"Displaying image: {os.path.basename(image_file)}\")\n",
        "    display(Image(filename=image_file))\n"
      ]
    },
    {
      "attachments": {},
      "cell_type": "markdown",
      "metadata": {},
      "source": [
        "Mesh"
      ]
    },
    {
      "cell_type": "code",
      "execution_count": null,
      "metadata": {},
      "outputs": [],
      "source": [
        "# # display meshes in polyscope\n",
        "# import polyscope as ps\n",
        "# import trimesh\n",
        "# import glob\n",
        "# import math\n",
        "\n",
        "# display_meshes = [\"vertex_based_step2_iter0.obj\", \"vertex_based_step2_iter100.obj\",\"vertex_based_step2_iter200.obj\",\"vertex_based_step2_iter300.obj\",\"vertex_based_step2_iter400.obj\"]  # replace this with your mesh names\n",
        "\n",
        "\n",
        "# # Get a list of all .obj files in the directory\n",
        "# obj_files = glob.glob(os.path.join(outputDir + '/debug/mesh/', \"*.obj\"))\n",
        "\n",
        "# # Filter obj_files to only include the ones in display_meshes\n",
        "# obj_files = [file for file in obj_files if os.path.basename(file) in display_meshes]\n",
        "\n",
        "# # Define a folder where the screenshots will be saved\n",
        "# screenshot_folder = outputDir+ \"/debug/screenshot_folder\"  # replace with your desired folder\n",
        "\n",
        "# # Check if the folder exists, if not create it\n",
        "# os.makedirs(screenshot_folder, exist_ok=True)\n",
        "\n",
        "# # Initialize polyscope\n",
        "# ps.init()\n",
        "# # enable auto centering and scaling\n",
        "# # ps.set_autocenter_structures(True)\n",
        "# # ps.set_autoscale_structures(True)\n",
        "# ps.set_up_dir(\"neg_y_up\")\n",
        "# # ps.set_bounding_box(-1.0,2.0)\n",
        "# # ps.set_SSAA_factor(4)\n",
        "# # ps.set_automatically_compute_scene_extents(True)\n",
        "# # ps.set_autoscale_structures(True)\n",
        "# # ps.set_autocenter_structures(True)\n",
        "# # ps.set_ground_plane_height_factor(1.0,True)\n",
        "# ps.set_ground_plane_mode(\"none\")\n",
        "\n",
        "# # # Show the mesh\n",
        "# # ps.show()\n",
        "# # Load and register each mesh to polyscope\n",
        "# for idx, obj_file in enumerate(obj_files):\n",
        "#     # mesh_name = os.path.basename(obj_file)  # get the name of the mesh\n",
        "#     mesh_name = os.path.basename(obj_file)  # get the name of the mesh\n",
        "\n",
        "#     # Load the mesh from an obj file using trimesh\n",
        "#     mesh = trimesh.load_mesh(obj_file)\n",
        "#     # Register the mesh to polyscope\n",
        "#     ps_mesh = ps.register_surface_mesh(mesh_name, mesh.vertices, mesh.faces)\n",
        "#     # Reset the transformation on the mesh\n",
        "#     ps_mesh.reset_transform()\n",
        "#     # Set a color for the mesh\n",
        "#     color = torch.tensor([0.5, 0.5, 0.5]).numpy()  # set a fixed color\n",
        "#     ps_mesh.set_color(color)\n",
        "#     # Reset the view\n",
        "#     ps.reset_camera_to_home_view()\n",
        "#     # Show the mesh\n",
        "#     ps.show()\n",
        "\n",
        "#     # Take a screenshot and save it to the specified folder\n",
        "#     screenshot_name = os.path.join(screenshot_folder, f\"{mesh_name}_screenshot.png\")\n",
        "#     ps.screenshot(screenshot_name)\n",
        "\n",
        "#     # Remove the mesh from polyscope to prepare for the next one\n",
        "#     ps.remove_all_structures()\n",
        "# #display results\n",
        "# # Directory containing the images\n",
        "# dir_path = outputDir + '/debug/screenshot_folder/'\n",
        "\n",
        "# # Get a list of all the .png images in the directory\n",
        "# image_files = glob.glob(os.path.join(dir_path, \"*.png\"))\n",
        "\n",
        "# # Display each image in turn\n",
        "# for image_file in image_files:\n",
        "#     print(f\"Displaying image: {os.path.basename(image_file)}\")\n",
        "#     display(Image(filename=image_file))"
      ]
    },
    {
      "cell_type": "code",
      "execution_count": null,
      "metadata": {},
      "outputs": [],
      "source": [
        "\n"
      ]
    }
  ],
  "metadata": {
    "accelerator": "GPU",
    "colab": {
      "name": "demo.ipynb",
      "provenance": []
    },
    "kernelspec": {
      "display_name": "Python 3",
      "language": "python",
      "name": "python3"
    },
    "language_info": {
      "codemirror_mode": {
        "name": "ipython",
        "version": 3
      },
      "file_extension": ".py",
      "mimetype": "text/x-python",
      "name": "python",
      "nbconvert_exporter": "python",
      "pygments_lexer": "ipython3",
      "version": "3.9.13"
    }
  },
  "nbformat": 4,
  "nbformat_minor": 0
}
