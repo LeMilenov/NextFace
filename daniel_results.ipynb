{
  "cells": [
    {
      "attachments": {},
      "cell_type": "markdown",
      "metadata": {},
      "source": [
        "Generate"
      ]
    },
    {
      "cell_type": "code",
      "execution_count": 1,
      "metadata": {
        "id": "YG4jOi1Rwx2A"
      },
      "outputs": [
        {
          "name": "stdout",
          "output_type": "stream",
          "text": [
            "loading optim config from:  ./optimConfig.ini\n"
          ]
        }
      ],
      "source": [
        "import sys\n",
        "import os\n",
        "import torch\n",
        "from optimizer import Optimizer\n",
        "from config import Config\n",
        "import glob\n",
        "import mitsuba as mi\n",
        "sys.path.insert(0,'/content/NextFace') # Verify your path\n",
        "\n",
        "config = Config()\n",
        "config.fillFromDicFile('./optimConfig.ini')\n",
        "# config.device = 'cuda' # torch not compiled with CUDA\n",
        "config.path = './baselMorphableModel/' # Verify your path\n",
        "\n",
        "# Directory path containing all images\n",
        "imageFolderPath = './input/test/s1.png'\n",
        "\n",
        "outputDir = './output/test/all_images/mitsuba_512'\n",
        "#setup\n",
        "if not os.path.exists(outputDir):\n",
        "    os.makedirs(outputDir)  # Create the output directory if it doesn't exist\n",
        "    \n",
        "# torch.cuda.set_device(0)\n"
      ]
    },
    {
      "cell_type": "code",
      "execution_count": 3,
      "metadata": {},
      "outputs": [
        {
          "name": "stdout",
          "output_type": "stream",
          "text": [
            "Loading Basel Face Model 2017 from ./baselMorphableModel//morphableModel-2017.pickle...\n",
            "loading mesh normals...\n",
            "loading uv parametrization...\n",
            "loading landmarks association file...\n",
            "creating sampler...\n"
          ]
        },
        {
          "name": "stderr",
          "output_type": "stream",
          "text": [
            "init camera pose...\n",
            "1/3 => Optimizing head pose and expressions using landmarks...\n"
          ]
        },
        {
          "name": "stdout",
          "output_type": "stream",
          "text": [
            "loading image from path: ./input/test/s1.png\n",
            "detecting landmarks using: fan\n",
            "running with mitsuba\n"
          ]
        },
        {
          "name": "stderr",
          "output_type": "stream",
          "text": [
            " 52%|█████▎    | 1050/2000 [00:12<00:11, 81.42it/s] \n"
          ]
        },
        {
          "ename": "KeyboardInterrupt",
          "evalue": "",
          "output_type": "error",
          "traceback": [
            "\u001b[1;31m---------------------------------------------------------------------------\u001b[0m",
            "\u001b[1;31mKeyboardInterrupt\u001b[0m                         Traceback (most recent call last)",
            "Cell \u001b[1;32mIn[3], line 9\u001b[0m\n\u001b[0;32m      2\u001b[0m optimizer \u001b[39m=\u001b[39m Optimizer(outputDir, config)\n\u001b[0;32m      3\u001b[0m \u001b[39m# Run the optimization for the current image\u001b[39;00m\n\u001b[0;32m      4\u001b[0m \u001b[39m# optimizer.run(imagePath, doStep1=True, doStep2=True, doStep3=True, renderer=\"vertex\")\u001b[39;00m\n\u001b[0;32m      5\u001b[0m \u001b[39m# Based on the vertex_based optimization, try to get to the same result with the Mitsuba one\u001b[39;00m\n\u001b[0;32m      6\u001b[0m \u001b[39m# optimizer.run(outputImageDir+'/debug/results/ref.png', checkpoint=outputImageDir+'/checkpoints/stage1_output.pickle', doStep1=False, doStep2=True, doStep3=False, renderer=\"mitsuba\")\u001b[39;00m\n\u001b[0;32m      7\u001b[0m \u001b[39m# optimizer.run(imagePath, doStep1=True, doStep2=True, doStep3=True, rendererName=\"redner\")\u001b[39;00m\n\u001b[0;32m      8\u001b[0m \u001b[39m# optimizer.run(imagePath, doStep1=True, doStep2=True, doStep3=True, rendererName=\"mitsuba\")\u001b[39;00m\n\u001b[1;32m----> 9\u001b[0m optimizer\u001b[39m.\u001b[39;49mrun(imageFolderPath, doStep1\u001b[39m=\u001b[39;49m\u001b[39mTrue\u001b[39;49;00m, doStep2\u001b[39m=\u001b[39;49m\u001b[39mTrue\u001b[39;49;00m, doStep3\u001b[39m=\u001b[39;49m\u001b[39mFalse\u001b[39;49;00m, rendererName\u001b[39m=\u001b[39;49m\u001b[39m\"\u001b[39;49m\u001b[39mmitsuba\u001b[39;49m\u001b[39m\"\u001b[39;49m)\n\u001b[0;32m     10\u001b[0m \u001b[39m# optimizer.run(imagePath, checkpoint=outputImageDir+'/checkpoints/stage2_output.pickle',doStep1=False, doStep2=False, doStep3=True, renderer=\"mitsuba\")\u001b[39;00m\n\u001b[0;32m     11\u001b[0m \u001b[39m# optimizer.run(imagePath, doStep1=True, doStep2=True, doStep3=False, renderer=\"redner\")\u001b[39;00m\n",
            "File \u001b[1;32mc:\\Users\\AQ14980\\Desktop\\repos\\NextFace\\optimizer.py:503\u001b[0m, in \u001b[0;36mOptimizer.run\u001b[1;34m(self, imagePathOrDir, sharedIdentity, checkpoint, doStep1, doStep2, doStep3, rendererName)\u001b[0m\n\u001b[0;32m    501\u001b[0m start \u001b[39m=\u001b[39m time\u001b[39m.\u001b[39mtime()\n\u001b[0;32m    502\u001b[0m \u001b[39mif\u001b[39;00m doStep1:\n\u001b[1;32m--> 503\u001b[0m     \u001b[39mself\u001b[39;49m\u001b[39m.\u001b[39;49mrunStep1()\n\u001b[0;32m    504\u001b[0m     \u001b[39mif\u001b[39;00m \u001b[39mself\u001b[39m\u001b[39m.\u001b[39mconfig\u001b[39m.\u001b[39msaveIntermediateStage:\n\u001b[0;32m    505\u001b[0m         \u001b[39mself\u001b[39m\u001b[39m.\u001b[39msaveOutput(\u001b[39mself\u001b[39m\u001b[39m.\u001b[39moutputDir \u001b[39m+\u001b[39m \u001b[39m'\u001b[39m\u001b[39m/outputStage1\u001b[39m\u001b[39m'\u001b[39m, prefix\u001b[39m=\u001b[39m\u001b[39m'\u001b[39m\u001b[39mstage1_\u001b[39m\u001b[39m'\u001b[39m)\n",
            "File \u001b[1;32mc:\\Users\\AQ14980\\Desktop\\repos\\NextFace\\optimizer.py:232\u001b[0m, in \u001b[0;36mOptimizer.runStep1\u001b[1;34m(self)\u001b[0m\n\u001b[0;32m    229\u001b[0m     \u001b[39mif\u001b[39;00m \u001b[39mself\u001b[39m\u001b[39m.\u001b[39mconfig\u001b[39m.\u001b[39mdebugFrequency \u001b[39m>\u001b[39m \u001b[39m0\u001b[39m \u001b[39mand\u001b[39;00m \u001b[39miter\u001b[39m \u001b[39m%\u001b[39m \u001b[39mself\u001b[39m\u001b[39m.\u001b[39mconfig\u001b[39m.\u001b[39mdebugFrequency \u001b[39m==\u001b[39m \u001b[39m0\u001b[39m:\n\u001b[0;32m    230\u001b[0m             \u001b[39m# save obj\u001b[39;00m\n\u001b[0;32m    231\u001b[0m             cameraNormals \u001b[39m=\u001b[39m \u001b[39mself\u001b[39m\u001b[39m.\u001b[39mpipeline\u001b[39m.\u001b[39mmorphableModel\u001b[39m.\u001b[39mcomputeNormals(cameraVertices) \u001b[39m# only used of obj (might be too slow)\u001b[39;00m\n\u001b[1;32m--> 232\u001b[0m             saveObj(\u001b[39mself\u001b[39;49m\u001b[39m.\u001b[39;49mdebugDir \u001b[39m+\u001b[39;49m \u001b[39m'\u001b[39;49m\u001b[39m/mesh/\u001b[39;49m\u001b[39m'\u001b[39;49m \u001b[39m+\u001b[39;49m \u001b[39mself\u001b[39;49m\u001b[39m.\u001b[39;49mrendererName\u001b[39m+\u001b[39;49m\u001b[39m'\u001b[39;49m\u001b[39m_step1_iter\u001b[39;49m\u001b[39m'\u001b[39;49m \u001b[39m+\u001b[39;49m \u001b[39mstr\u001b[39;49m(\u001b[39miter\u001b[39;49m)\u001b[39m+\u001b[39;49m\u001b[39m'\u001b[39;49m\u001b[39m.obj\u001b[39;49m\u001b[39m'\u001b[39;49m,\n\u001b[0;32m    233\u001b[0m                     \u001b[39m'\u001b[39;49m\u001b[39mmaterial\u001b[39;49m\u001b[39m'\u001b[39;49m \u001b[39m+\u001b[39;49m \u001b[39mstr\u001b[39;49m(\u001b[39miter\u001b[39;49m) \u001b[39m+\u001b[39;49m \u001b[39m'\u001b[39;49m\u001b[39m.mtl\u001b[39;49m\u001b[39m'\u001b[39;49m,\n\u001b[0;32m    234\u001b[0m                     cameraVertices[\u001b[39m0\u001b[39;49m],\n\u001b[0;32m    235\u001b[0m                     \u001b[39mself\u001b[39;49m\u001b[39m.\u001b[39;49mpipeline\u001b[39m.\u001b[39;49mfaces32,\n\u001b[0;32m    236\u001b[0m                     cameraNormals[\u001b[39m0\u001b[39;49m],\n\u001b[0;32m    237\u001b[0m                     \u001b[39mself\u001b[39;49m\u001b[39m.\u001b[39;49mpipeline\u001b[39m.\u001b[39;49mmorphableModel\u001b[39m.\u001b[39;49muvMap,\n\u001b[0;32m    238\u001b[0m                     \u001b[39mself\u001b[39;49m\u001b[39m.\u001b[39;49mdebugDir \u001b[39m+\u001b[39;49m \u001b[39m'\u001b[39;49m\u001b[39mdiffuseMap_\u001b[39;49m\u001b[39m'\u001b[39;49m \u001b[39m+\u001b[39;49m \u001b[39mstr\u001b[39;49m(\u001b[39mself\u001b[39;49m\u001b[39m.\u001b[39;49mgetTextureIndex(\u001b[39m0\u001b[39;49m)) \u001b[39m+\u001b[39;49m \u001b[39m'\u001b[39;49m\u001b[39m.png\u001b[39;49m\u001b[39m'\u001b[39;49m)\n\u001b[0;32m    240\u001b[0m \u001b[39mself\u001b[39m\u001b[39m.\u001b[39mplotLoss(losses, \u001b[39m0\u001b[39m, \u001b[39mself\u001b[39m\u001b[39m.\u001b[39moutputDir \u001b[39m+\u001b[39m \u001b[39m'\u001b[39m\u001b[39mcheckpoints/stage1_loss.png\u001b[39m\u001b[39m'\u001b[39m)\n\u001b[0;32m    241\u001b[0m \u001b[39mself\u001b[39m\u001b[39m.\u001b[39msaveParameters(\u001b[39mself\u001b[39m\u001b[39m.\u001b[39moutputDir \u001b[39m+\u001b[39m \u001b[39m'\u001b[39m\u001b[39mcheckpoints/stage1_output.pickle\u001b[39m\u001b[39m'\u001b[39m)\n",
            "File \u001b[1;32mc:\\Users\\AQ14980\\Desktop\\repos\\NextFace\\utils.py:75\u001b[0m, in \u001b[0;36msaveObj\u001b[1;34m(filename, materialName, vertices, faces, normals, tcoords, textureFileName)\u001b[0m\n\u001b[0;32m     73\u001b[0m \u001b[39m#write face indices list\u001b[39;00m\n\u001b[0;32m     74\u001b[0m \u001b[39mfor\u001b[39;00m t \u001b[39min\u001b[39;00m faces:\n\u001b[1;32m---> 75\u001b[0m     f\u001b[39m.\u001b[39;49mwrite(\u001b[39m'\u001b[39;49m\u001b[39mf \u001b[39;49m\u001b[39m%d\u001b[39;49;00m\u001b[39m/\u001b[39;49m\u001b[39m%d\u001b[39;49;00m\u001b[39m/\u001b[39;49m\u001b[39m%d\u001b[39;49;00m\u001b[39m \u001b[39;49m\u001b[39m%d\u001b[39;49;00m\u001b[39m/\u001b[39;49m\u001b[39m%d\u001b[39;49;00m\u001b[39m/\u001b[39;49m\u001b[39m%d\u001b[39;49;00m\u001b[39m \u001b[39;49m\u001b[39m%d\u001b[39;49;00m\u001b[39m/\u001b[39;49m\u001b[39m%d\u001b[39;49;00m\u001b[39m/\u001b[39;49m\u001b[39m%d\u001b[39;49;00m\u001b[39m\\n\u001b[39;49;00m\u001b[39m'\u001b[39;49m \u001b[39m%\u001b[39;49m (t[\u001b[39m0\u001b[39;49m] \u001b[39m+\u001b[39;49m \u001b[39m1\u001b[39;49m, t[\u001b[39m0\u001b[39;49m] \u001b[39m+\u001b[39;49m \u001b[39m1\u001b[39;49m,t[\u001b[39m0\u001b[39;49m] \u001b[39m+\u001b[39;49m \u001b[39m1\u001b[39;49m,\n\u001b[0;32m     76\u001b[0m                                           t[\u001b[39m1\u001b[39;49m] \u001b[39m+\u001b[39;49m \u001b[39m1\u001b[39;49m, t[\u001b[39m1\u001b[39;49m] \u001b[39m+\u001b[39;49m \u001b[39m1\u001b[39;49m,t[\u001b[39m1\u001b[39;49m] \u001b[39m+\u001b[39;49m \u001b[39m1\u001b[39;49m,\n\u001b[0;32m     77\u001b[0m                                           t[\u001b[39m2\u001b[39;49m] \u001b[39m+\u001b[39;49m \u001b[39m1\u001b[39;49m, t[\u001b[39m2\u001b[39;49m] \u001b[39m+\u001b[39;49m \u001b[39m1\u001b[39;49m, t[\u001b[39m2\u001b[39;49m] \u001b[39m+\u001b[39;49m \u001b[39m1\u001b[39;49m))\n\u001b[0;32m     78\u001b[0m f\u001b[39m.\u001b[39mclose()\n",
            "\u001b[1;31mKeyboardInterrupt\u001b[0m: "
          ]
        }
      ],
      "source": [
        "# torch.cuda.empty_cache()\n",
        "optimizer = Optimizer(outputDir, config)\n",
        "# Run the optimization for the current image\n",
        "# optimizer.run(imagePath, doStep1=True, doStep2=True, doStep3=True, renderer=\"vertex\")\n",
        "# Based on the vertex_based optimization, try to get to the same result with the Mitsuba one\n",
        "# optimizer.run(outputImageDir+'/debug/results/ref.png', checkpoint=outputImageDir+'/checkpoints/stage1_output.pickle', doStep1=False, doStep2=True, doStep3=False, renderer=\"mitsuba\")\n",
        "# optimizer.run(imagePath, doStep1=True, doStep2=True, doStep3=True, rendererName=\"redner\")\n",
        "# optimizer.run(imagePath, doStep1=True, doStep2=True, doStep3=True, rendererName=\"mitsuba\")\n",
        "optimizer.run(imageFolderPath, doStep1=True, doStep2=True, doStep3=True, rendererName=\"mitsuba\")\n",
        "# optimizer.run(imagePath, checkpoint=outputImageDir+'/checkpoints/stage2_output.pickle',doStep1=False, doStep2=False, doStep3=True, renderer=\"mitsuba\")\n",
        "# optimizer.run(imagePath, doStep1=True, doStep2=True, doStep3=False, renderer=\"redner\")"
      ]
    },
    {
      "attachments": {},
      "cell_type": "markdown",
      "metadata": {},
      "source": [
        "Results"
      ]
    },
    {
      "cell_type": "code",
      "execution_count": null,
      "metadata": {},
      "outputs": [],
      "source": [
        "# from IPython.display import Image\n",
        "\n",
        "# #display results\n",
        "# # Directory containing the images\n",
        "# dir_path = outputDir + 'bikerman_512.jpg/debug/results/'\n",
        "\n",
        "# # Get a list of all the .png images in the directory\n",
        "# image_files = glob.glob(os.path.join(dir_path, \"*.png\"))\n",
        "\n",
        "# # Display each image in turn\n",
        "# for image_file in image_files:\n",
        "#     print(f\"Displaying image: {os.path.basename(image_file)}\")\n",
        "#     display(Image(filename=image_file))\n",
        "# print('2nd ')\n",
        "# # dir_path = outputDir + 'bikerman_256.jpg/debug/results/'\n",
        "\n",
        "# # # Get a list of all the .png images in the directory\n",
        "# # image_files = glob.glob(os.path.join(dir_path, \"*.png\"))\n",
        "\n",
        "# # # Display each image in turn\n",
        "# # for image_file in image_files:\n",
        "# #     print(f\"Displaying image: {os.path.basename(image_file)}\")\n",
        "# #     display(Image(filename=image_file))"
      ]
    },
    {
      "attachments": {},
      "cell_type": "markdown",
      "metadata": {},
      "source": [
        "Mesh"
      ]
    },
    {
      "cell_type": "code",
      "execution_count": 1,
      "metadata": {},
      "outputs": [
        {
          "ename": "",
          "evalue": "",
          "output_type": "error",
          "traceback": [
            "\u001b[1;31mCannot execute code, session has been disposed. Please try restarting the Kernel."
          ]
        },
        {
          "ename": "",
          "evalue": "",
          "output_type": "error",
          "traceback": [
            "\u001b[1;31mThe Kernel crashed while executing code in the the current cell or a previous cell. Please review the code in the cell(s) to identify a possible cause of the failure. Click <a href='https://aka.ms/vscodeJupyterKernelCrash'>here</a> for more info. View Jupyter <a href='command:jupyter.viewOutput'>log</a> for further details."
          ]
        }
      ],
      "source": [
        "import utils\n",
        "meshes = [\"mitsuba_step2_iter0.obj\",\"mitsuba_step2_iter400.obj\",\"redner_step2_iter0.obj\",\"redner_step2_iter400.obj\",\"vertex_step2_iter0.obj\",\"vertex_step2_iter400.obj\",]\n",
        "meshDir = './output/test/bikerman_512.jpg/debug/mesh/'\n",
        "outputDir = './output/test/bikerman_512.jpg/debug/screenshot'\n",
        "utils.screenshotMesh(meshes,meshDir, outputDir )"
      ]
    },
    {
      "cell_type": "code",
      "execution_count": null,
      "metadata": {},
      "outputs": [],
      "source": [
        "# # display meshes in polyscope\n",
        "# import polyscope as ps\n",
        "# import trimesh\n",
        "# import glob\n",
        "# import math\n",
        "\n",
        "# display_meshes = [\"mitsuba_step2_iter0.obj\",\"mitsuba_step2_iter400.obj\",\"redner_step2_iter0.obj\",\"redner_step2_iter400.obj\",\"vertex_step2_iter0.obj\",\"vertex_step2_iter400.obj\",]  # replace this with your mesh names\n",
        "\n",
        "# outputDir = './output/test/bikerman_512.jpg/'\n",
        "# # Get a list of all .obj files in the directory\n",
        "# obj_files = glob.glob(os.path.join(outputDir + '/debug/mesh', \"*.obj\"))\n",
        "\n",
        "# # Filter obj_files to only include the ones in display_meshes\n",
        "# obj_files = [file for file in obj_files if os.path.basename(file) in display_meshes]\n",
        "\n",
        "# # Define a folder where the screenshots will be saved\n",
        "# screenshot_folder = outputDir+ \"/debug/screenshot_folder\"  # replace with your desired folder\n",
        "\n",
        "# # Check if the folder exists, if not create it\n",
        "# os.makedirs(screenshot_folder, exist_ok=True)\n",
        "\n",
        "# # Initialize polyscope\n",
        "# ps.init()\n",
        "# # enable auto centering and scaling\n",
        "# # ps.set_autocenter_structures(True)\n",
        "# # ps.set_autoscale_structures(True)\n",
        "# ps.set_up_dir(\"neg_y_up\")\n",
        "# # ps.set_bounding_box(-1.0,2.0)\n",
        "# # ps.set_SSAA_factor(4)\n",
        "# # ps.set_automatically_compute_scene_extents(True)\n",
        "# # ps.set_autoscale_structures(True)\n",
        "# # ps.set_autocenter_structures(True)\n",
        "# # ps.set_ground_plane_height_factor(1.0,True)\n",
        "# ps.set_ground_plane_mode(\"none\")\n",
        "\n",
        "# # # Show the mesh\n",
        "# # ps.show()\n",
        "# # Load and register each mesh to polyscope\n",
        "# for idx, obj_file in enumerate(obj_files):\n",
        "#     # mesh_name = os.path.basename(obj_file)  # get the name of the mesh\n",
        "#     mesh_name = os.path.basename(obj_file)  # get the name of the mesh\n",
        "\n",
        "#     # Load the mesh from an obj file using trimesh\n",
        "#     mesh = trimesh.load_mesh(obj_file)\n",
        "#     # Register the mesh to polyscope\n",
        "#     ps_mesh = ps.register_surface_mesh(mesh_name, mesh.vertices, mesh.faces)\n",
        "#     # Reset the transformation on the mesh\n",
        "#     ps_mesh.reset_transform()\n",
        "#     # Set a color for the mesh\n",
        "#     color = torch.tensor([0.5, 0.5, 0.5]).numpy()  # set a fixed color\n",
        "#     ps_mesh.set_color(color)\n",
        "#     # Reset the view\n",
        "#     ps.reset_camera_to_home_view()\n",
        "#     # Show the mesh\n",
        "#     ps.show()\n",
        "\n",
        "#     # Take a screenshot and save it to the specified folder\n",
        "#     screenshot_name = os.path.join(screenshot_folder, f\"{mesh_name}_screenshot.png\")\n",
        "#     ps.screenshot(screenshot_name)\n",
        "\n",
        "#     # Remove the mesh from polyscope to prepare for the next one\n",
        "#     ps.remove_all_structures()\n",
        "# #display results\n",
        "# # Directory containing the images\n",
        "# dir_path = outputDir + '/debug/screenshot_folder/'\n",
        "\n",
        "# # Get a list of all the .png images in the directory\n",
        "# image_files = glob.glob(os.path.join(dir_path, \"*.png\"))\n",
        "\n",
        "# # Display each image in turn\n",
        "# for image_file in image_files:\n",
        "#     print(f\"Displaying image: {os.path.basename(image_file)}\")\n",
        "#     display(Image(filename=image_file))"
      ]
    }
  ],
  "metadata": {
    "accelerator": "GPU",
    "colab": {
      "name": "demo.ipynb",
      "provenance": []
    },
    "kernelspec": {
      "display_name": "Python 3",
      "language": "python",
      "name": "python3"
    },
    "language_info": {
      "codemirror_mode": {
        "name": "ipython",
        "version": 3
      },
      "file_extension": ".py",
      "mimetype": "text/x-python",
      "name": "python",
      "nbconvert_exporter": "python",
      "pygments_lexer": "ipython3",
      "version": "3.9.13"
    }
  },
  "nbformat": 4,
  "nbformat_minor": 0
}
