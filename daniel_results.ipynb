{
  "cells": [
    {
      "attachments": {},
      "cell_type": "markdown",
      "metadata": {},
      "source": [
        "Generate"
      ]
    },
    {
      "cell_type": "code",
      "execution_count": 1,
      "metadata": {
        "id": "YG4jOi1Rwx2A"
      },
      "outputs": [
        {
          "name": "stdout",
          "output_type": "stream",
          "text": [
            "loading optim config from:  ./optimConfig.ini\n"
          ]
        }
      ],
      "source": [
        "import sys\n",
        "import os\n",
        "import torch\n",
        "from optimizer import Optimizer\n",
        "from config import Config\n",
        "import glob\n",
        "sys.path.insert(0,'/content/NextFace') # Verify your path\n",
        "\n",
        "config = Config()\n",
        "config.fillFromDicFile('./optimConfig.ini')\n",
        "# config.device = 'cuda' # torch not compiled with CUDA\n",
        "config.path = './baselMorphableModel/' # Verify your path\n",
        "\n",
        "# Directory path containing all images\n",
        "imageFolderPath = './input/test/'\n",
        "\n",
        "outputDir = './output/test/all_images/vertex_512'\n",
        "#setup\n",
        "if not os.path.exists(outputDir):\n",
        "    os.makedirs(outputDir)  # Create the output directory if it doesn't exist\n",
        "    \n",
        "torch.cuda.set_device(0)\n"
      ]
    },
    {
      "cell_type": "code",
      "execution_count": 2,
      "metadata": {},
      "outputs": [
        {
          "name": "stdout",
          "output_type": "stream",
          "text": [
            "Loading Basel Face Model 2017 from ./baselMorphableModel//morphableModel-2017.pickle...\n",
            "loading mesh normals...\n",
            "loading uv parametrization...\n",
            "loading landmarks association file...\n",
            "creating sampler...\n"
          ]
        },
        {
          "name": "stderr",
          "output_type": "stream",
          "text": [
            "c:\\Users\\AQ14980\\Desktop\\repos\\NextFace\\faceNext\\lib\\site-packages\\torch\\functional.py:504: UserWarning: torch.meshgrid: in an upcoming release, it will be required to pass the indexing argument. (Triggered internally at C:\\actions-runner\\_work\\pytorch\\pytorch\\builder\\windows\\pytorch\\aten\\src\\ATen\\native\\TensorShape.cpp:3484.)\n",
            "  return _VF.meshgrid(tensors, **kwargs)  # type: ignore[attr-defined]\n"
          ]
        },
        {
          "name": "stdout",
          "output_type": "stream",
          "text": [
            "c:\\Users\\AQ14980\\Desktop\\repos\\NextFace\n",
            "loading images from path:  ./input/test/\n",
            "loading image from path: ./input/test//s1.png\n",
            "loading image from path: ./input/test//s2.png\n",
            "loading image from path: ./input/test//s3.png\n",
            "loading image from path: ./input/test//s4.png\n",
            "loading image from path: ./input/test//s5.png\n",
            "loading image from path: ./input/test//s6.png\n",
            "loading image from path: ./input/test//s7.png\n",
            "detecting landmarks using: fan\n"
          ]
        },
        {
          "name": "stderr",
          "output_type": "stream",
          "text": [
            "c:\\Users\\AQ14980\\Desktop\\repos\\NextFace\\landmarksfan.py:35: UserWarning: Creating a tensor from a list of numpy.ndarrays is extremely slow. Please consider converting the list to a single numpy.ndarray with numpy.array() before converting to a tensor. (Triggered internally at C:\\actions-runner\\_work\\pytorch\\pytorch\\builder\\windows\\pytorch\\torch\\csrc\\utils\\tensor_new.cpp:248.)\n",
            "  return torch.tensor(landmarks, device = self.device)\n",
            "init camera pose...\n",
            "1/3 => Optimizing head pose and expressions using landmarks...\n"
          ]
        },
        {
          "name": "stdout",
          "output_type": "stream",
          "text": [
            "running with vertex\n"
          ]
        },
        {
          "name": "stderr",
          "output_type": "stream",
          "text": [
            "100%|██████████| 2000/2000 [00:13<00:00, 145.23it/s]\n",
            "2/3 => Optimizing shape, statistical albedos, expression, head pose and scene light...\n",
            "  0%|          | 0/401 [00:00<?, ?it/s]c:\\Users\\AQ14980\\Desktop\\repos\\NextFace\\optimizer.py:244: RuntimeWarning: invalid value encountered in cast\n",
            "  debugFrame = (debugFrame* 255).astype(np.uint8)\n",
            " 25%|██▍       | 100/401 [00:17<00:46,  6.44it/s]c:\\Users\\AQ14980\\Desktop\\repos\\NextFace\\optimizer.py:244: RuntimeWarning: overflow encountered in multiply\n",
            "  debugFrame = (debugFrame* 255).astype(np.uint8)\n",
            "100%|██████████| 401/401 [01:12<00:00,  5.52it/s]\n",
            "took 1.45 minutes to optimize\n",
            "saving to: ' ./output/test/all_images// '. hold on... \n",
            "c:\\Users\\AQ14980\\Desktop\\repos\\NextFace\\faceNext\\lib\\site-packages\\pyredner\\image.py:40: UserWarning: ./output/test/all_images///roughnessMap_0.png is a low contrast image\n",
            "  skimage.io.imsave(filename,\n",
            "c:\\Users\\AQ14980\\Desktop\\repos\\NextFace\\faceNext\\lib\\site-packages\\pyredner\\image.py:40: UserWarning: ./output/test/all_images///roughnessMap_1.png is a low contrast image\n",
            "  skimage.io.imsave(filename,\n",
            "c:\\Users\\AQ14980\\Desktop\\repos\\NextFace\\faceNext\\lib\\site-packages\\pyredner\\image.py:41: RuntimeWarning: invalid value encountered in cast\n",
            "  (np.power(np.clip(img, 0.0, 1.0), 1.0/gamma) * 255).astype(np.uint8))\n",
            "c:\\Users\\AQ14980\\Desktop\\repos\\NextFace\\faceNext\\lib\\site-packages\\pyredner\\image.py:40: UserWarning: ./output/test/all_images////envMap_2.png is a low contrast image\n",
            "  skimage.io.imsave(filename,\n",
            "c:\\Users\\AQ14980\\Desktop\\repos\\NextFace\\faceNext\\lib\\site-packages\\pyredner\\image.py:40: UserWarning: ./output/test/all_images///diffuse_2.png is a low contrast image\n",
            "  skimage.io.imsave(filename,\n",
            "c:\\Users\\AQ14980\\Desktop\\repos\\NextFace\\faceNext\\lib\\site-packages\\pyredner\\image.py:40: UserWarning: ./output/test/all_images///specular_2.png is a low contrast image\n",
            "  skimage.io.imsave(filename,\n",
            "c:\\Users\\AQ14980\\Desktop\\repos\\NextFace\\faceNext\\lib\\site-packages\\pyredner\\image.py:40: UserWarning: ./output/test/all_images///roughness_2.png is a low contrast image\n",
            "  skimage.io.imsave(filename,\n",
            "c:\\Users\\AQ14980\\Desktop\\repos\\NextFace\\faceNext\\lib\\site-packages\\pyredner\\image.py:40: UserWarning: ./output/test/all_images///illumination_2.png is a low contrast image\n",
            "  skimage.io.imsave(filename,\n",
            "c:\\Users\\AQ14980\\Desktop\\repos\\NextFace\\faceNext\\lib\\site-packages\\pyredner\\image.py:40: UserWarning: ./output/test/all_images///finalReconstruction_2.png is a low contrast image\n",
            "  skimage.io.imsave(filename,\n",
            "c:\\Users\\AQ14980\\Desktop\\repos\\NextFace\\faceNext\\lib\\site-packages\\pyredner\\image.py:40: UserWarning: ./output/test/all_images///diffuseMap_2.png is a low contrast image\n",
            "  skimage.io.imsave(filename,\n",
            "c:\\Users\\AQ14980\\Desktop\\repos\\NextFace\\faceNext\\lib\\site-packages\\pyredner\\image.py:40: UserWarning: ./output/test/all_images///specularMap_2.png is a low contrast image\n",
            "  skimage.io.imsave(filename,\n",
            "c:\\Users\\AQ14980\\Desktop\\repos\\NextFace\\faceNext\\lib\\site-packages\\pyredner\\image.py:40: UserWarning: ./output/test/all_images///roughnessMap_2.png is a low contrast image\n",
            "  skimage.io.imsave(filename,\n",
            "c:\\Users\\AQ14980\\Desktop\\repos\\NextFace\\faceNext\\lib\\site-packages\\pyredner\\image.py:40: UserWarning: ./output/test/all_images///roughnessMap_3.png is a low contrast image\n",
            "  skimage.io.imsave(filename,\n",
            "c:\\Users\\AQ14980\\Desktop\\repos\\NextFace\\faceNext\\lib\\site-packages\\pyredner\\image.py:40: UserWarning: ./output/test/all_images///roughnessMap_4.png is a low contrast image\n",
            "  skimage.io.imsave(filename,\n",
            "c:\\Users\\AQ14980\\Desktop\\repos\\NextFace\\faceNext\\lib\\site-packages\\pyredner\\image.py:40: UserWarning: ./output/test/all_images///roughnessMap_5.png is a low contrast image\n",
            "  skimage.io.imsave(filename,\n",
            "c:\\Users\\AQ14980\\Desktop\\repos\\NextFace\\faceNext\\lib\\site-packages\\pyredner\\image.py:40: UserWarning: ./output/test/all_images///roughnessMap_6.png is a low contrast image\n",
            "  skimage.io.imsave(filename,\n"
          ]
        },
        {
          "data": {
            "image/png": "[encoded data removed]",
            "text/plain": [
              "<Figure size 640x480 with 1 Axes>"
            ]
          },
          "metadata": {},
          "output_type": "display_data"
        },
        {
          "data": {
            "image/png": "[encoded data removed]",
            "text/plain": [
              "<Figure size 640x480 with 1 Axes>"
            ]
          },
          "metadata": {},
          "output_type": "display_data"
        }
      ],
      "source": [
        "torch.cuda.empty_cache()\n",
        "optimizer = Optimizer(outputDir, config)\n",
        "\n",
        "# Run the optimization for the current image\n",
        "# optimizer.run(imagePath, doStep1=True, doStep2=True, doStep3=True, renderer=\"vertex\")\n",
        "# Based on the vertex_based optimization, try to get to the same result with the Mitsuba one\n",
        "# optimizer.run(outputImageDir+'/debug/results/ref.png', checkpoint=outputImageDir+'/checkpoints/stage1_output.pickle', doStep1=False, doStep2=True, doStep3=False, renderer=\"mitsuba\")\n",
        "# optimizer.run(imagePath, doStep1=True, doStep2=True, doStep3=True, rendererName=\"redner\")\n",
        "# optimizer.run(imagePath, doStep1=True, doStep2=True, doStep3=True, rendererName=\"mitsuba\")\n",
        "optimizer.run(imageFolderPath, doStep1=True, doStep2=True, doStep3=False, rendererName=\"vertex\")\n",
        "# optimizer.run(imagePath, checkpoint=outputImageDir+'/checkpoints/stage2_output.pickle',doStep1=False, doStep2=False, doStep3=True, renderer=\"mitsuba\")\n",
        "# optimizer.run(imagePath, doStep1=True, doStep2=True, doStep3=False, renderer=\"redner\")"
      ]
    },
    {
      "attachments": {},
      "cell_type": "markdown",
      "metadata": {},
      "source": [
        "Results"
      ]
    },
    {
      "cell_type": "code",
      "execution_count": 3,
      "metadata": {},
      "outputs": [],
      "source": [
        "# from IPython.display import Image\n",
        "\n",
        "# #display results\n",
        "# # Directory containing the images\n",
        "# dir_path = outputDir + 'bikerman_512.jpg/debug/results/'\n",
        "\n",
        "# # Get a list of all the .png images in the directory\n",
        "# image_files = glob.glob(os.path.join(dir_path, \"*.png\"))\n",
        "\n",
        "# # Display each image in turn\n",
        "# for image_file in image_files:\n",
        "#     print(f\"Displaying image: {os.path.basename(image_file)}\")\n",
        "#     display(Image(filename=image_file))\n",
        "# print('2nd ')\n",
        "# # dir_path = outputDir + 'bikerman_256.jpg/debug/results/'\n",
        "\n",
        "# # # Get a list of all the .png images in the directory\n",
        "# # image_files = glob.glob(os.path.join(dir_path, \"*.png\"))\n",
        "\n",
        "# # # Display each image in turn\n",
        "# # for image_file in image_files:\n",
        "# #     print(f\"Displaying image: {os.path.basename(image_file)}\")\n",
        "# #     display(Image(filename=image_file))"
      ]
    },
    {
      "attachments": {},
      "cell_type": "markdown",
      "metadata": {},
      "source": [
        "Mesh"
      ]
    },
    {
      "cell_type": "code",
      "execution_count": 4,
      "metadata": {},
      "outputs": [],
      "source": [
        "# # display meshes in polyscope\n",
        "# import polyscope as ps\n",
        "# import trimesh\n",
        "# import glob\n",
        "# import math\n",
        "\n",
        "# display_meshes = [\"mitsuba_step2_iter0.obj\",\"mitsuba_step2_iter400.obj\",\"redner_step2_iter0.obj\",\"redner_step2_iter400.obj\",\"vertex_step2_iter0.obj\",\"vertex_step2_iter400.obj\",]  # replace this with your mesh names\n",
        "\n",
        "# outputDir = './output/test/bikerman_512.jpg/'\n",
        "# # Get a list of all .obj files in the directory\n",
        "# obj_files = glob.glob(os.path.join(outputDir + '/debug/mesh', \"*.obj\"))\n",
        "\n",
        "# # Filter obj_files to only include the ones in display_meshes\n",
        "# obj_files = [file for file in obj_files if os.path.basename(file) in display_meshes]\n",
        "\n",
        "# # Define a folder where the screenshots will be saved\n",
        "# screenshot_folder = outputDir+ \"/debug/screenshot_folder\"  # replace with your desired folder\n",
        "\n",
        "# # Check if the folder exists, if not create it\n",
        "# os.makedirs(screenshot_folder, exist_ok=True)\n",
        "\n",
        "# # Initialize polyscope\n",
        "# ps.init()\n",
        "# # enable auto centering and scaling\n",
        "# # ps.set_autocenter_structures(True)\n",
        "# # ps.set_autoscale_structures(True)\n",
        "# ps.set_up_dir(\"neg_y_up\")\n",
        "# # ps.set_bounding_box(-1.0,2.0)\n",
        "# # ps.set_SSAA_factor(4)\n",
        "# # ps.set_automatically_compute_scene_extents(True)\n",
        "# # ps.set_autoscale_structures(True)\n",
        "# # ps.set_autocenter_structures(True)\n",
        "# # ps.set_ground_plane_height_factor(1.0,True)\n",
        "# ps.set_ground_plane_mode(\"none\")\n",
        "\n",
        "# # # Show the mesh\n",
        "# # ps.show()\n",
        "# # Load and register each mesh to polyscope\n",
        "# for idx, obj_file in enumerate(obj_files):\n",
        "#     # mesh_name = os.path.basename(obj_file)  # get the name of the mesh\n",
        "#     mesh_name = os.path.basename(obj_file)  # get the name of the mesh\n",
        "\n",
        "#     # Load the mesh from an obj file using trimesh\n",
        "#     mesh = trimesh.load_mesh(obj_file)\n",
        "#     # Register the mesh to polyscope\n",
        "#     ps_mesh = ps.register_surface_mesh(mesh_name, mesh.vertices, mesh.faces)\n",
        "#     # Reset the transformation on the mesh\n",
        "#     ps_mesh.reset_transform()\n",
        "#     # Set a color for the mesh\n",
        "#     color = torch.tensor([0.5, 0.5, 0.5]).numpy()  # set a fixed color\n",
        "#     ps_mesh.set_color(color)\n",
        "#     # Reset the view\n",
        "#     ps.reset_camera_to_home_view()\n",
        "#     # Show the mesh\n",
        "#     ps.show()\n",
        "\n",
        "#     # Take a screenshot and save it to the specified folder\n",
        "#     screenshot_name = os.path.join(screenshot_folder, f\"{mesh_name}_screenshot.png\")\n",
        "#     ps.screenshot(screenshot_name)\n",
        "\n",
        "#     # Remove the mesh from polyscope to prepare for the next one\n",
        "#     ps.remove_all_structures()\n",
        "# #display results\n",
        "# # Directory containing the images\n",
        "# dir_path = outputDir + '/debug/screenshot_folder/'\n",
        "\n",
        "# # Get a list of all the .png images in the directory\n",
        "# image_files = glob.glob(os.path.join(dir_path, \"*.png\"))\n",
        "\n",
        "# # Display each image in turn\n",
        "# for image_file in image_files:\n",
        "#     print(f\"Displaying image: {os.path.basename(image_file)}\")\n",
        "#     display(Image(filename=image_file))"
      ]
    }
  ],
  "metadata": {
    "accelerator": "GPU",
    "colab": {
      "name": "demo.ipynb",
      "provenance": []
    },
    "kernelspec": {
      "display_name": "Python 3",
      "language": "python",
      "name": "python3"
    },
    "language_info": {
      "codemirror_mode": {
        "name": "ipython",
        "version": 3
      },
      "file_extension": ".py",
      "mimetype": "text/x-python",
      "name": "python",
      "nbconvert_exporter": "python",
      "pygments_lexer": "ipython3",
      "version": "3.9.13"
    }
  },
  "nbformat": 4,
  "nbformat_minor": 0
}
