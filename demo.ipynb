{
  "cells": [
    {
      "attachments": {},
      "cell_type": "markdown",
      "metadata": {
        "id": "iKuIEsqO6vDS"
      },
      "source": [
        "1. Clone NextFace and set the correct path on google drive\n",
        "2. enable gpu from Menu->Runtime-> Change runtime type"
      ]
    },
    {
      "cell_type": "code",
      "execution_count": null,
      "metadata": {
        "id": "YG4jOi1Rwx2A"
      },
      "outputs": [],
      "source": [
        "# !git clone https://github.com/abdallahdib/NextFace.git\n",
        "import sys\n",
        "import os\n",
        "sys.path.insert(0,'/content/NextFace') #verify ur path"
      ]
    },
    {
      "attachments": {},
      "cell_type": "markdown",
      "metadata": {
        "id": "h3pczgA468RG"
      },
      "source": [
        "2. install dependencies"
      ]
    },
    {
      "cell_type": "code",
      "execution_count": null,
      "metadata": {
        "id": "zQ-elwGa0J3S"
      },
      "outputs": [],
      "source": [
        "# pip install face_alignment==1.2.0 redner-gpu"
      ]
    },
    {
      "attachments": {},
      "cell_type": "markdown",
      "metadata": {
        "id": "0wyQLAtM7DnR"
      },
      "source": [
        "3. create optimizer and set the correct path to the **'baselMorphableModel'** directory \n",
        "\n",
        "PS: u have to manually upload the file **'morphableModel-2017.pickle'** from your local pc to google drive or download the **'model2017-1_face12_nomouth.h5'** from https://faces.dmi.unibas.ch/bfm/bfm2017.html and **albedoModel2020_face12_albedoPart.h5** from https://github.com/waps101/AlbedoMM/releases/download/v1.0/albedoModel2020_face12_albedoPart.h5. put these two files inside the **'baselMorphableModel'** directory\n",
        "\n",
        "The reason for not adding these files directly because we are not allowed to share these files and u have to manually agree with their license term before using these data. so yeh! unfortunately u will have to manually download them (please refer to readme file in the github repository)"
      ]
    },
    {
      "cell_type": "code",
      "execution_count": null,
      "metadata": {
        "id": "jNPREJEczUYg"
      },
      "outputs": [],
      "source": [
        "from optimizer import Optimizer\n",
        "from config import Config\n",
        "config = Config()\n",
        "config.fillFromDicFile('./optimConfig.ini')\n",
        "# config.device = 'cuda' # torch not compiled with cuda\n",
        "config.path = './baselMorphableModel/' #verify ur path\n"
      ]
    },
    {
      "cell_type": "code",
      "execution_count": null,
      "metadata": {
        "id": "AwYMbIY00IvC"
      },
      "outputs": [],
      "source": [
        "import torch\n",
        "\n",
        "imagePath = './input/detailled_faces_unsplash/1.jpg' #verify ur path\n",
        "outputDir = './output/' + os.path.basename(imagePath.strip('/'))\n",
        "# VALIDATE CUDA\n",
        "print(torch.cuda.is_available())\n",
        "print(torch.cuda.get_device_name(0))\n",
        "# # torch.cuda.set_device(torch.cuda.device(0) )\n",
        "# # torch.backends.cudnn.benchmark = False\n",
        "# print(torch.cuda.device_count())\n",
        "# torch.cuda.empty_cache()\n",
        "# torch.cuda.set_device(0)\n",
        "    \n",
        "optimizer = Optimizer(outputDir ,config)"
      ]
    },
    {
      "attachments": {},
      "cell_type": "markdown",
      "metadata": {
        "id": "khcuAPKZA9RT"
      },
      "source": [
        "now we can run the optimization"
      ]
    },
    {
      "cell_type": "code",
      "execution_count": null,
      "metadata": {
        "colab": {
          "base_uri": "https://localhost:8080/",
          "height": 1000
        },
        "id": "5lQYBcXb90iH",
        "outputId": "4ff2113d-6eec-4b77-9d8f-4a32138ea7fc"
      },
      "outputs": [],
      "source": [
        "#run the optimization now \n",
        "optimizer.run(imagePath)\n",
        "#display results\n",
        "from IPython.display import Image, display\n",
        "from IPython.display import Image\n",
        "display(Image(outputDir + '/render_0.png'))\n"
      ]
    }
  ],
  "metadata": {
    "accelerator": "GPU",
    "colab": {
      "name": "demo.ipynb",
      "provenance": []
    },
    "kernelspec": {
      "display_name": "Python 3",
      "language": "python",
      "name": "python3"
    },
    "language_info": {
      "codemirror_mode": {
        "name": "ipython",
        "version": 3
      },
      "file_extension": ".py",
      "mimetype": "text/x-python",
      "name": "python",
      "nbconvert_exporter": "python",
      "pygments_lexer": "ipython3",
      "version": "3.9.13"
    }
  },
  "nbformat": 4,
  "nbformat_minor": 0
}
