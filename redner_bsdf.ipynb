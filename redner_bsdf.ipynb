{
 "cells": [
  {
   "cell_type": "code",
   "execution_count": 1,
   "metadata": {},
   "outputs": [
    {
     "name": "stdout",
     "output_type": "stream",
     "text": [
      "\u001b[93m[mitsuba] Warning: Couldn't import the ipywidgets package. Installing this package is required for the system to properly log messages and print in Jupyter notebooks!\n"
     ]
    }
   ],
   "source": [
    "import drjit as dr\n",
    "import mitsuba as mi\n",
    "\n",
    "mi.set_variant('llvm_ad_rgb')\n",
    "import plugins\n"
   ]
  },
  {
   "cell_type": "code",
   "execution_count": 2,
   "metadata": {},
   "outputs": [
    {
     "ename": "RuntimeError",
     "evalue": "​[xml.cpp:1115] Error while loading \"<string>\" (near line 1, col 1): could not instantiate bsdf plugin of type \"rednermat\": TypeError: __init__(): incompatible constructor arguments. The following argument types are supported:\n[xml.cpp:1115]     1. mitsuba.llvm_ad_rgb.Texture(props: mitsuba.llvm_ad_rgb.Properties)\n[xml.cpp:1115] \n[xml.cpp:1115] Invoked with: 0.1\n[xml.cpp:1115] \n[xml.cpp:1115] At:\n[xml.cpp:1115]   /home/beltegeuse/project/NextFace/plugins/bsdfs/rednermat.py(14): __init__\n[xml.cpp:1115]   /home/beltegeuse/project/NextFace/plugins/__init__.py(6): <lambda>\n[xml.cpp:1115]   /home/beltegeuse/project/NextFace/mitsuba/python/chi2.py(504): instantiate\n[xml.cpp:1115]   /home/beltegeuse/project/NextFace/mitsuba/python/chi2.py(508): sample_functor\n[xml.cpp:1115]   /home/beltegeuse/project/NextFace/mitsuba/python/chi2.py(125): tabulate_histogram\n[xml.cpp:1115]   /home/beltegeuse/project/NextFace/mitsuba/python/chi2.py(261): run\n[xml.cpp:1115]   /tmp/ipykernel_17451/3860185847.py(15): <module>\n[xml.cpp:1115]   /home/beltegeuse/project/NextFace/.venv/lib/python3.11/site-packages/IPython/core/interactiveshell.py(3508): run_code\n[xml.cpp:1115]   /home/beltegeuse/project/NextFace/.venv/lib/python3.11/site-packages/IPython/core/interactiveshell.py(3448): run_ast_nodes\n[xml.cpp:1115]   /home/beltegeuse/project/NextFace/.venv/lib/python3.11/site-packages/IPython/core/interactiveshell.py(3269): run_cell_async\n[xml.cpp:1115]   /home/beltegeuse/project/NextFace/.venv/lib/python3.11/site-packages/IPython/core/async_helpers.py(129): _pseudo_sync_runner\n[xml.cpp:1115]   /home/beltegeuse/project/NextFace/.venv/lib/python3.11/site-packages/IPython/core/interactiveshell.py(3064): _run_cell\n[xml.cpp:1115]   /home/beltegeuse/project/NextFace/.venv/lib/python3.11/site-packages/IPython/core/interactiveshell.py(3009): run_cell\n[xml.cpp:1115]   /home/beltegeuse/project/NextFace/.venv/lib/python3.11/site-packages/ipykernel/zmqshell.py(546): run_cell\n[xml.cpp:1115]   /home/beltegeuse/project/NextFace/.venv/lib/python3.11/site-packages/ipykernel/ipkernel.py(422): do_execute\n[xml.cpp:1115]   /home/beltegeuse/project/NextFace/.venv/lib/python3.11/site-packages/ipykernel/kernelbase.py(740): execute_request\n[xml.cpp:1115]   /home/beltegeuse/project/NextFace/.venv/lib/python3.11/site-packages/ipykernel/kernelbase.py(412): dispatch_shell\n[xml.cpp:1115]   /home/beltegeuse/project/NextFace/.venv/lib/python3.11/site-packages/ipykernel/kernelbase.py(505): process_one\n[xml.cpp:1115]   /home/beltegeuse/project/NextFace/.venv/lib/python3.11/site-packages/ipykernel/kernelbase.py(516): dispatch_queue\n[xml.cpp:1115]   /usr/lib/python3.11/asyncio/events.py(80): _run\n[xml.cpp:1115]   /usr/lib/python3.11/asyncio/base_events.py(1922): _run_once\n[xml.cpp:1115]   /usr/lib/python3.11/asyncio/base_events.py(607): run_forever\n[xml.cpp:1115]   /home/beltegeuse/project/NextFace/.venv/lib/python3.11/site-packages/tornado/platform/asyncio.py(195): start\n[xml.cpp:1115]   /home/beltegeuse/project/NextFace/.venv/lib/python3.11/site-packages/ipykernel/kernelapp.py(736): start\n[xml.cpp:1115]   /home/beltegeuse/project/NextFace/.venv/lib/python3.11/site-packages/traitlets/config/application.py(1043): launch_instance\n[xml.cpp:1115]   /home/beltegeuse/project/NextFace/.venv/lib/python3.11/site-packages/ipykernel_launcher.py(17): <module>\n[xml.cpp:1115]   <frozen runpy>(88): _run_code\n[xml.cpp:1115]   <frozen runpy>(198): _run_module_as_main",
     "output_type": "error",
     "traceback": [
      "\u001b[0;31m---------------------------------------------------------------------------\u001b[0m",
      "\u001b[0;31mRuntimeError\u001b[0m                              Traceback (most recent call last)",
      "Cell \u001b[0;32mIn[2], line 15\u001b[0m\n\u001b[1;32m      4\u001b[0m sample_func, pdf_func \u001b[38;5;241m=\u001b[39m mi\u001b[38;5;241m.\u001b[39mchi2\u001b[38;5;241m.\u001b[39mBSDFAdapter(\u001b[38;5;124m\"\u001b[39m\u001b[38;5;124mrednermat\u001b[39m\u001b[38;5;124m\"\u001b[39m, xml)\n\u001b[1;32m      6\u001b[0m chi2 \u001b[38;5;241m=\u001b[39m mi\u001b[38;5;241m.\u001b[39mchi2\u001b[38;5;241m.\u001b[39mChiSquareTest(\n\u001b[1;32m      7\u001b[0m     domain\u001b[38;5;241m=\u001b[39mmi\u001b[38;5;241m.\u001b[39mchi2\u001b[38;5;241m.\u001b[39mSphericalDomain(),\n\u001b[1;32m      8\u001b[0m     sample_func\u001b[38;5;241m=\u001b[39msample_func,\n\u001b[0;32m   (...)\u001b[0m\n\u001b[1;32m     12\u001b[0m     res\u001b[38;5;241m=\u001b[39m\u001b[38;5;241m201\u001b[39m\n\u001b[1;32m     13\u001b[0m )\n\u001b[0;32m---> 15\u001b[0m \u001b[38;5;28;01massert\u001b[39;00m \u001b[43mchi2\u001b[49m\u001b[38;5;241;43m.\u001b[39;49m\u001b[43mrun\u001b[49m\u001b[43m(\u001b[49m\u001b[43m)\u001b[49m\n",
      "File \u001b[0;32m~/project/NextFace/mitsuba/python/chi2.py:261\u001b[0m, in \u001b[0;36mChiSquareTest.run\u001b[0;34m(self, significance_level, test_count, quiet)\u001b[0m\n\u001b[1;32m    259\u001b[0m \u001b[39mimport\u001b[39;00m \u001b[39mnumpy\u001b[39;00m \u001b[39mas\u001b[39;00m \u001b[39mnp\u001b[39;00m\n\u001b[1;32m    260\u001b[0m \u001b[39mif\u001b[39;00m \u001b[39mself\u001b[39m\u001b[39m.\u001b[39mhistogram \u001b[39mis\u001b[39;00m \u001b[39mNone\u001b[39;00m:\n\u001b[0;32m--> 261\u001b[0m     \u001b[39mself\u001b[39;49m\u001b[39m.\u001b[39;49mtabulate_histogram()\n\u001b[1;32m    263\u001b[0m \u001b[39mif\u001b[39;00m \u001b[39mself\u001b[39m\u001b[39m.\u001b[39mpdf \u001b[39mis\u001b[39;00m \u001b[39mNone\u001b[39;00m:\n\u001b[1;32m    264\u001b[0m     \u001b[39mself\u001b[39m\u001b[39m.\u001b[39mtabulate_pdf()\n",
      "File \u001b[0;32m~/project/NextFace/mitsuba/python/chi2.py:125\u001b[0m, in \u001b[0;36mChiSquareTest.tabulate_histogram\u001b[0;34m(self)\u001b[0m\n\u001b[1;32m    121\u001b[0m     samples_in[i] \u001b[39m=\u001b[39m rng\u001b[39m.\u001b[39mnext_float32() \u001b[39mif\u001b[39;00m mi\u001b[39m.\u001b[39mFloat \u001b[39mis\u001b[39;00m mi\u001b[39m.\u001b[39mFloat32 \\\n\u001b[1;32m    122\u001b[0m         \u001b[39melse\u001b[39;00m rng\u001b[39m.\u001b[39mnext_float64()\n\u001b[1;32m    124\u001b[0m \u001b[39m# Invoke sampling strategy\u001b[39;00m\n\u001b[0;32m--> 125\u001b[0m samples_out \u001b[39m=\u001b[39m \u001b[39mself\u001b[39;49m\u001b[39m.\u001b[39;49msample_func(samples_in)\n\u001b[1;32m    127\u001b[0m \u001b[39mif\u001b[39;00m \u001b[39mtype\u001b[39m(samples_out) \u001b[39mis\u001b[39;00m \u001b[39mtuple\u001b[39m:\n\u001b[1;32m    128\u001b[0m     weights_out \u001b[39m=\u001b[39m samples_out[\u001b[39m1\u001b[39m]\n",
      "File \u001b[0;32m~/project/NextFace/mitsuba/python/chi2.py:508\u001b[0m, in \u001b[0;36mBSDFAdapter.<locals>.sample_functor\u001b[0;34m(sample, *args)\u001b[0m\n\u001b[1;32m    506\u001b[0m \u001b[39mdef\u001b[39;00m \u001b[39msample_functor\u001b[39m(sample, \u001b[39m*\u001b[39margs):\n\u001b[1;32m    507\u001b[0m     n \u001b[39m=\u001b[39m dr\u001b[39m.\u001b[39mwidth(sample)\n\u001b[0;32m--> 508\u001b[0m     plugin \u001b[39m=\u001b[39m instantiate(args)\n\u001b[1;32m    509\u001b[0m     (si, ctx) \u001b[39m=\u001b[39m make_context(n)\n\u001b[1;32m    510\u001b[0m     bs, weight \u001b[39m=\u001b[39m plugin\u001b[39m.\u001b[39msample(ctx, si, sample[\u001b[39m0\u001b[39m], [sample[\u001b[39m1\u001b[39m], sample[\u001b[39m2\u001b[39m]])\n",
      "File \u001b[0;32m~/project/NextFace/mitsuba/python/chi2.py:504\u001b[0m, in \u001b[0;36mBSDFAdapter.<locals>.instantiate\u001b[0;34m(args)\u001b[0m\n\u001b[1;32m    500\u001b[0m \u001b[39mdef\u001b[39;00m \u001b[39minstantiate\u001b[39m(args):\n\u001b[1;32m    501\u001b[0m     xml \u001b[39m=\u001b[39m \u001b[39m\"\"\"\u001b[39m\u001b[39m<bsdf version=\u001b[39m\u001b[39m\"\u001b[39m\u001b[39m3.0.0\u001b[39m\u001b[39m\"\u001b[39m\u001b[39m type=\u001b[39m\u001b[39m\"\u001b[39m\u001b[39m%s\u001b[39;00m\u001b[39m\"\u001b[39m\u001b[39m>\u001b[39m\n\u001b[1;32m    502\u001b[0m \u001b[39m        \u001b[39m\u001b[39m%s\u001b[39;00m\n\u001b[1;32m    503\u001b[0m \u001b[39m    </bsdf>\u001b[39m\u001b[39m\"\"\"\u001b[39m \u001b[39m%\u001b[39m (bsdf_type, extra)\n\u001b[0;32m--> 504\u001b[0m     \u001b[39mreturn\u001b[39;00m mi\u001b[39m.\u001b[39;49mload_string(xml \u001b[39m%\u001b[39;49m args)\n",
      "\u001b[0;31mRuntimeError\u001b[0m: ​[xml.cpp:1115] Error while loading \"<string>\" (near line 1, col 1): could not instantiate bsdf plugin of type \"rednermat\": TypeError: __init__(): incompatible constructor arguments. The following argument types are supported:\n[xml.cpp:1115]     1. mitsuba.llvm_ad_rgb.Texture(props: mitsuba.llvm_ad_rgb.Properties)\n[xml.cpp:1115] \n[xml.cpp:1115] Invoked with: 0.1\n[xml.cpp:1115] \n[xml.cpp:1115] At:\n[xml.cpp:1115]   /home/beltegeuse/project/NextFace/plugins/bsdfs/rednermat.py(14): __init__\n[xml.cpp:1115]   /home/beltegeuse/project/NextFace/plugins/__init__.py(6): <lambda>\n[xml.cpp:1115]   /home/beltegeuse/project/NextFace/mitsuba/python/chi2.py(504): instantiate\n[xml.cpp:1115]   /home/beltegeuse/project/NextFace/mitsuba/python/chi2.py(508): sample_functor\n[xml.cpp:1115]   /home/beltegeuse/project/NextFace/mitsuba/python/chi2.py(125): tabulate_histogram\n[xml.cpp:1115]   /home/beltegeuse/project/NextFace/mitsuba/python/chi2.py(261): run\n[xml.cpp:1115]   /tmp/ipykernel_17451/3860185847.py(15): <module>\n[xml.cpp:1115]   /home/beltegeuse/project/NextFace/.venv/lib/python3.11/site-packages/IPython/core/interactiveshell.py(3508): run_code\n[xml.cpp:1115]   /home/beltegeuse/project/NextFace/.venv/lib/python3.11/site-packages/IPython/core/interactiveshell.py(3448): run_ast_nodes\n[xml.cpp:1115]   /home/beltegeuse/project/NextFace/.venv/lib/python3.11/site-packages/IPython/core/interactiveshell.py(3269): run_cell_async\n[xml.cpp:1115]   /home/beltegeuse/project/NextFace/.venv/lib/python3.11/site-packages/IPython/core/async_helpers.py(129): _pseudo_sync_runner\n[xml.cpp:1115]   /home/beltegeuse/project/NextFace/.venv/lib/python3.11/site-packages/IPython/core/interactiveshell.py(3064): _run_cell\n[xml.cpp:1115]   /home/beltegeuse/project/NextFace/.venv/lib/python3.11/site-packages/IPython/core/interactiveshell.py(3009): run_cell\n[xml.cpp:1115]   /home/beltegeuse/project/NextFace/.venv/lib/python3.11/site-packages/ipykernel/zmqshell.py(546): run_cell\n[xml.cpp:1115]   /home/beltegeuse/project/NextFace/.venv/lib/python3.11/site-packages/ipykernel/ipkernel.py(422): do_execute\n[xml.cpp:1115]   /home/beltegeuse/project/NextFace/.venv/lib/python3.11/site-packages/ipykernel/kernelbase.py(740): execute_request\n[xml.cpp:1115]   /home/beltegeuse/project/NextFace/.venv/lib/python3.11/site-packages/ipykernel/kernelbase.py(412): dispatch_shell\n[xml.cpp:1115]   /home/beltegeuse/project/NextFace/.venv/lib/python3.11/site-packages/ipykernel/kernelbase.py(505): process_one\n[xml.cpp:1115]   /home/beltegeuse/project/NextFace/.venv/lib/python3.11/site-packages/ipykernel/kernelbase.py(516): dispatch_queue\n[xml.cpp:1115]   /usr/lib/python3.11/asyncio/events.py(80): _run\n[xml.cpp:1115]   /usr/lib/python3.11/asyncio/base_events.py(1922): _run_once\n[xml.cpp:1115]   /usr/lib/python3.11/asyncio/base_events.py(607): run_forever\n[xml.cpp:1115]   /home/beltegeuse/project/NextFace/.venv/lib/python3.11/site-packages/tornado/platform/asyncio.py(195): start\n[xml.cpp:1115]   /home/beltegeuse/project/NextFace/.venv/lib/python3.11/site-packages/ipykernel/kernelapp.py(736): start\n[xml.cpp:1115]   /home/beltegeuse/project/NextFace/.venv/lib/python3.11/site-packages/traitlets/config/application.py(1043): launch_instance\n[xml.cpp:1115]   /home/beltegeuse/project/NextFace/.venv/lib/python3.11/site-packages/ipykernel_launcher.py(17): <module>\n[xml.cpp:1115]   <frozen runpy>(88): _run_code\n[xml.cpp:1115]   <frozen runpy>(198): _run_module_as_main"
     ]
    }
   ],
   "source": [
    "xml = \"\"\"<float name=\"roughness\" value=\"0.05\"/>\n",
    "         <rgb name=\"albedo\" value=\"1.0\"/>\n",
    "         <rgb name=\"specular\" value=\"0.0\"/>\"\"\"\n",
    "sample_func, pdf_func = mi.chi2.BSDFAdapter(\"rednermat\", xml)\n",
    "\n",
    "chi2 = mi.chi2.ChiSquareTest(\n",
    "    domain=mi.chi2.SphericalDomain(),\n",
    "    sample_func=sample_func,\n",
    "    pdf_func=pdf_func,\n",
    "    sample_dim=3,\n",
    "    ires=16,\n",
    "    res=201\n",
    ")\n",
    "\n",
    "assert chi2.run()"
   ]
  },
  {
   "cell_type": "code",
   "execution_count": null,
   "metadata": {},
   "outputs": [],
   "source": []
  }
 ],
 "metadata": {
  "kernelspec": {
   "display_name": "Python 3.11.3 ('.venv': venv)",
   "language": "python",
   "name": "python3"
  },
  "language_info": {
   "codemirror_mode": {
    "name": "ipython",
    "version": 3
   },
   "file_extension": ".py",
   "mimetype": "text/x-python",
   "name": "python",
   "nbconvert_exporter": "python",
   "pygments_lexer": "ipython3",
   "version": "3.11.3"
  },
  "orig_nbformat": 4,
  "vscode": {
   "interpreter": {
    "hash": "12baa93364ef8de773337a07d302701ffd4ca3378a7a4731fea1ec77b1d102fc"
   }
  }
 },
 "nbformat": 4,
 "nbformat_minor": 2
}
